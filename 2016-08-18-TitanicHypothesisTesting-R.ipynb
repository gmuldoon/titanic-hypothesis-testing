{
 "cells": [
  {
   "cell_type": "markdown",
   "metadata": {
    "collapsed": true,
    "slideshow": {
     "slide_type": "slide"
    }
   },
   "source": [
    "<img src=images/Stöwer_Titanic.jpg align=\"right\" width=\"15%\" style=\"margin-right:10%\">\n",
    "\n",
    "#### August 18, 2016 - Women in Data Science ATX Meetup - \"Data Science from Scratch\" Workshop #6\n",
    "\n",
    "# Hypothesis Testing on the Titanic Data Set with R"
   ]
  },
  {
   "cell_type": "markdown",
   "metadata": {
    "slideshow": {
     "slide_type": "subslide"
    }
   },
   "source": [
    "## 0. Preliminaries\n",
    "\n",
    "### 0.1 Set up the R language kernel for Jupyter + load libraries\n",
    "https://www.continuum.io/blog/developer/jupyter-and-conda-r\n",
    "\n",
    "#### Assumption:\n",
    "You have Anaconda installed. If not, go here for instructions:  \n",
    "https://github.com/mGalarnyk/Installations_Mac_Ubuntu_Windows\n",
    "\n",
    "#### Summary:\n",
    "1. Open a shell and run this command to install `r-essentials` into the current environment:\n",
    "<pre><code>conda install -c r r-essentials\n",
    "</code></pre>\n",
    "OR, run this command to install it into a new environment:\n",
    "<pre><code>conda create -n my-r-env -c r r-essentials\n",
    "</code></pre>\n",
    "2. Start a new jupyter notebook session:\n",
    "<pre><code>jupyter notebook</code></pre>"
   ]
  },
  {
   "cell_type": "markdown",
   "metadata": {
    "slideshow": {
     "slide_type": "subslide"
    }
   },
   "source": [
    "#### Note:\n",
    "Beware that you may sometimes get traceback (error) messages that print one character per line, i.e., vertically. It looks like this bug has been fixed:  \n",
    "https://github.com/IRkernel/IRkernel/issues/261\n",
    "\n",
    "However, the date on the fix is later than the date of the latest release, IRkernel 0.6.1, so we'll just live with it for now:  \n",
    "https://github.com/IRkernel/IRkernel/releases"
   ]
  },
  {
   "cell_type": "code",
   "execution_count": 2,
   "metadata": {
    "collapsed": false,
    "slideshow": {
     "slide_type": "subslide"
    }
   },
   "outputs": [],
   "source": [
    "# Load libraries\n",
    "library(ggplot2) # visualization\n",
    "library(dplyr)   # data manipulation\n",
    "library(repr)    # used only to change default figure size\n",
    "\n",
    "# Change figure size to 6 x 4\n",
    "options(repr.plot.width=6, repr.plot.height=4)"
   ]
  },
  {
   "cell_type": "markdown",
   "metadata": {
    "slideshow": {
     "slide_type": "subslide"
    }
   },
   "source": [
    "### 0.2 Resources\n",
    "- *(DS From Scratch)* [Data Science From Scratch](http://shop.oreilly.com/product/0636920033400.do) - Chapter 7: Hypothesis and Inference\n",
    "- *(OIS)* \"OpenIntro Statistics\" book: https://www.openintro.org/stat/textbook.php?stat_book=os - Chapter 4: Foundations for Inference\n",
    "- *(PPA)* \"Practical Predictive Analytics: Models and Methods\" course: (https://www.coursera.org/learn/predictive-analytics/home/week/1) - Week 1: Practical Statistical Inference  \n",
    "- *(Wikipedia)*: https://en.wikipedia.org/wiki/Statistical_hypothesis_testing\n",
    "\n",
    "Some text taken directly from:\n",
    "- *(IS)* \"Inferential Statistics\" course: https://www.coursera.org/learn/inferential-statistics-intro/\n",
    "\n",
    "Some code taken directly from:\n",
    "- https://www.analyticsvidhya.com/blog/2015/10/inferential-descriptive-statistics-beginners-r/\n",
    "- https://choens.github.io/titanic-workshop/03-eda-and-hypothesis-testing.html\n",
    "- https://rpubs.com/jeffrey6557/52266\n",
    "\n",
    "The files `train.csv` and `test.csv` were downloaded from https://www.kaggle.com/c/titanic/data."
   ]
  },
  {
   "cell_type": "markdown",
   "metadata": {
    "slideshow": {
     "slide_type": "subslide"
    }
   },
   "source": [
    "### 0.3 Overview\n",
    "Our goal in this workshop is to work through a hypothesis test on the same Titanic dataset that we've worked with in previous workshops. The Titanic data comes to us already having been randomly sampled into two files `train.csv` and `test.csv`. However, the file `test.csv` is unlabeled, so we won't use it unless we want to look at distributions of variables over the entire set of passenger data. \n",
    "\n",
    "We will be considering a *sample* from the *population* of all Titanic passengers (not including crew members). There were approximately [1317 passengers](http://www.titanicfacts.net/titanic-passengers.html) on board the Titanic when it sank.\n",
    "\n",
    "We'll follow a general set of steps for statistical hypothesis testing."
   ]
  },
  {
   "cell_type": "markdown",
   "metadata": {
    "slideshow": {
     "slide_type": "slide"
    }
   },
   "source": [
    "## 1. Set the hypotheses\n",
    "\"The first step is to state the relevant null and alternative hypotheses. This is important, as mis-stating the hypotheses will muddy the rest of the process.\" - *Wikipedia*\n",
    "\n",
    "Here are some examples of general hypotheses:\n",
    "- \"This coin is fair.\"\n",
    "- \"Data scientists prefer Python to R.\"\n",
    "- \"People are more likely to navigate away from the page without ever reading the content if we pop up an irritating interstitial advertisement with a tiny, hard-to-find close button.\"\n",
    "\n",
    "\\- *DS From Scratch*"
   ]
  },
  {
   "cell_type": "markdown",
   "metadata": {
    "slideshow": {
     "slide_type": "slide"
    }
   },
   "source": [
    "Next, express the hypothesis you want to investigate as:\n",
    "- a **null hypothesis** $H_0$ that represents some default position, and\n",
    "- an **alternative hypothesis** $H_A$ that we'll compare $H_0$ with.\n",
    "\n",
    "Another way to think of this is that we want to compare an experimental group and a control group. Stated this way:\n",
    "- the **null hypothesis** claims that there is no difference between the groups, and\n",
    "- the **alternative hypothesis** claims that there is a statistically significant difference between the groups."
   ]
  },
  {
   "cell_type": "markdown",
   "metadata": {
    "slideshow": {
     "slide_type": "subslide"
    }
   },
   "source": [
    "### *Example:* Consider `Age` variable of Titanic data set\n",
    "We've heard that women and children were asked to get on the lifeboats first when the Titanic was sinking. So let's investigate the general hypothesis that children aboard the Titanic had a better chance of survival than adults. Did they?\n",
    "\n",
    "To answer this we can do a hypothesis test comparing two proportions: the proportion of children who survived, $p_{\\rm child}$, and the proportion of adults who survived, $p_{\\rm adult}$. We can state the null and alternative hypotheses as:\n",
    "- $H_0$: $p_{\\rm child} - p_{\\rm adult} = 0$ There is no significant difference in the proportion of children who survive and the proportion of adults who survive.\n",
    "- $H_A$: $p_{\\rm child} - p_{\\rm adult} > 0$ There is a better chance of survival for children than adults.\n",
    "\n",
    "$p_{\\rm child}$ is our unknown population proportion of children who survived  \n",
    "$p_{\\rm adult}$ is our unknown population proportion of adults who survived"
   ]
  },
  {
   "cell_type": "markdown",
   "metadata": {
    "slideshow": {
     "slide_type": "fragment"
    }
   },
   "source": [
    "Our *parameter of interest* is the difference between the proportions of **all** Titanic child passengers and **all** Titanic adult passengers who survived: $p_{\\rm child} - p_{\\rm adult}$.\n",
    "\n",
    "Our *point estimate* is the difference between the proportions of **sampled** Titanic child passengers and **sampled** Titanic adult passengers who survived: $\\hat{p}_{\\rm child} - \\hat{p}_{\\rm adult}$."
   ]
  },
  {
   "cell_type": "markdown",
   "metadata": {
    "slideshow": {
     "slide_type": "slide"
    }
   },
   "source": [
    "## 2. Check assumptions and conditions\n",
    "\"The second step is to consider the statistical assumptions being made about the sample in doing the test; for example, assumptions about the statistical independence or about the form of the distributions of the observations. This is equally important as invalid assumptions will mean that the results of the test are invalid.\" - *Wikipedia*\n",
    "\n",
    "In hypothesis testing the \"control\" and \"experimental\" groups are typically defined through careful experimental design. This is not usually the case in data science applications, though. An exception is collecting click-through data in an A/B test that measures the effect of new ad placement on your website compared to the control group, or existing placement. - *PPA*"
   ]
  },
  {
   "cell_type": "markdown",
   "metadata": {
    "slideshow": {
     "slide_type": "subslide"
    }
   },
   "source": [
    "#### First, some notes on estimating the difference between the population parameter of interest (and between the point estimate):\n",
    "\n",
    "To estimate the difference between the two proportions, look at the *point estimate* $\\pm$ the *margin of error*:\n",
    "$$(\\hat{p}_{\\rm child} - \\hat{p}_{\\rm adult}) \\pm z^*\\,\\textrm{SE}_{\\hat{p}_{\\rm child} - \\hat{p}_{\\rm adult}},$$\n",
    "\n",
    "where $z^*$ is the critical $z$-score. We're using this because based on the *Central Limit Theorem* our proportions (and their differences) are going to be nearly normal.\n",
    "\n",
    "This is how we calculate the standard error for the difference between two proportions that we'll need for calculating a *confidence interval*:\n",
    "\n",
    "$$\\textrm{SE} = \\sqrt{\\frac{\\hat{p}_{\\rm child}(1 - \\hat{p}_{\\rm child})}{n_{\\rm child}} + \\frac{\\hat{p}_{\\rm adult}(1 - \\hat{p}_{\\rm adult})}{n_{\\rm adult}}}$$\n",
    "\n",
    "Note that the standard error is basically just the standard deviation of the *sampling distribution*."
   ]
  },
  {
   "cell_type": "markdown",
   "metadata": {
    "slideshow": {
     "slide_type": "subslide"
    }
   },
   "source": [
    "#### Check the conditions for inference for comparing two independent proportions:\n",
    "1. *Independence:*\n",
    "    - **within groups**: sampled observations must be independent within each group\n",
    "        - random sample/assignment\n",
    "        - if sampling without replacement, $n < 10$% of population\n",
    "    - **between groups**: the two groups must be independent of each other (non-paired)\n",
    "    \n",
    "2. *Sample size/skew:* Each sample should meet the success-failure condition:\n",
    "    $$n_{\\rm child} p_{\\rm child} \\ge 10 \\quad \\textrm{and} \\quad n_{\\rm child} (1 - p_{\\rm child}) \\ge 10$$\n",
    "    $$n_{\\rm adult} p_{\\rm adult} \\ge 10 \\quad \\textrm{and} \\quad n_{\\rm adult} (1 - p_{\\rm adult}) \\ge 10$$\n",
    "    \n",
    "Note that for calculating the *confidence interval* we need to use the \"p-hat\" values corresponding to the observed sample proportions."
   ]
  },
  {
   "cell_type": "markdown",
   "metadata": {
    "slideshow": {
     "slide_type": "subslide"
    }
   },
   "source": [
    "Using a 95% confidence interval, let's estimate how the proportion of children who survived the Titanic shipwrech compares to the proportion of adults.\n",
    "\n",
    "1. Check *independence*: \n",
    "    - check **within groups**:\n",
    "        - the sample should be random for both adults and children since we either take the data from `train.csv` and work with that, or randomly sample the data ourselves.\n",
    "        - to meet the 10% condition we need to estimate how many children and how many adults are in the *population* of Titanic passengers.\n",
    "      \n",
    "So, let's take a look at the Titanic data, then continue with our checks."
   ]
  },
  {
   "cell_type": "markdown",
   "metadata": {
    "slideshow": {
     "slide_type": "subslide"
    }
   },
   "source": [
    "#### Load the Titanic training data set:"
   ]
  },
  {
   "cell_type": "code",
   "execution_count": 3,
   "metadata": {
    "collapsed": false,
    "slideshow": {
     "slide_type": "fragment"
    }
   },
   "outputs": [
    {
     "name": "stdout",
     "output_type": "stream",
     "text": [
      "'data.frame':\t891 obs. of  12 variables:\n",
      " $ PassengerId: int  1 2 3 4 5 6 7 8 9 10 ...\n",
      " $ Survived   : int  0 1 1 1 0 0 0 0 1 1 ...\n",
      " $ Pclass     : int  3 1 3 1 3 3 1 3 3 2 ...\n",
      " $ Name       : Factor w/ 891 levels \"Abbing, Mr. Anthony\",..: 109 191 358 277 16 559 520 629 417 581 ...\n",
      " $ Sex        : Factor w/ 2 levels \"female\",\"male\": 2 1 1 1 2 2 2 2 1 1 ...\n",
      " $ Age        : num  22 38 26 35 35 NA 54 2 27 14 ...\n",
      " $ SibSp      : int  1 1 0 1 0 0 0 3 0 1 ...\n",
      " $ Parch      : int  0 0 0 0 0 0 0 1 2 0 ...\n",
      " $ Ticket     : Factor w/ 681 levels \"110152\",\"110413\",..: 524 597 670 50 473 276 86 396 345 133 ...\n",
      " $ Fare       : num  7.25 71.28 7.92 53.1 8.05 ...\n",
      " $ Cabin      : Factor w/ 148 levels \"\",\"A10\",\"A14\",..: 1 83 1 57 1 1 131 1 1 1 ...\n",
      " $ Embarked   : Factor w/ 4 levels \"\",\"C\",\"Q\",\"S\": 4 2 4 4 4 3 4 4 4 2 ...\n"
     ]
    }
   ],
   "source": [
    "train <- read.csv(\"data/train.csv\")  # read in Titanic training data csv file to R data frame\n",
    "str(train)                           # display data frame using R `str` function"
   ]
  },
  {
   "cell_type": "markdown",
   "metadata": {
    "slideshow": {
     "slide_type": "fragment"
    }
   },
   "source": [
    "The training data set is a random sample of 891 passengers from the total 1309 passengers in our data set. This is over 67% of all 1317 passengers aboard the Titanic when it sank. "
   ]
  },
  {
   "cell_type": "code",
   "execution_count": 40,
   "metadata": {
    "collapsed": false,
    "slideshow": {
     "slide_type": "subslide"
    }
   },
   "outputs": [],
   "source": [
    "# # UNCOMMENT TO LOOK AT FULL SET OF DATA - THE ENTIRE POPULATION\n",
    "# test  <- read.csv('data/test.csv')   # read in Titanic test data csv file\n",
    "\n",
    "# training <- data.frame(train$Age, train$Sex, train$Pclass);  # disclude Survived and assign to new data frame so we don't lose \"train\"\n",
    "# names(training) <- c(\"Age\", \"Sex\",\"Pclass\"); # rename column variables\n",
    "# names(test)  <- c(\"Age\", \"Sex\",\"Pclass\");\n",
    "\n",
    "# full  <- bind_rows(training, test)      # bind training & test data\n",
    "# str(full)  # note that there are 1309 observations, which is over 99% of the entire population of 1317"
   ]
  },
  {
   "cell_type": "markdown",
   "metadata": {
    "slideshow": {
     "slide_type": "subslide"
    }
   },
   "source": [
    "There are 12 columns, but we will subset the data to just a few columns of interest:\n",
    "- 1 numerical: `Age`\n",
    "- 3 categorial: `Pclass`, `Sex`, `Survived`"
   ]
  },
  {
   "cell_type": "code",
   "execution_count": 4,
   "metadata": {
    "collapsed": false,
    "slideshow": {
     "slide_type": "fragment"
    }
   },
   "outputs": [
    {
     "data": {
      "text/html": [
       "<table>\n",
       "<thead><tr><th></th><th scope=col>Survived</th><th scope=col>Age</th><th scope=col>Sex</th><th scope=col>Pclass</th></tr></thead>\n",
       "<tbody>\n",
       "\t<tr><th scope=row>1</th><td>0   </td><td>22  </td><td>male</td><td>3   </td></tr>\n",
       "\t<tr><th scope=row>2</th><td>1     </td><td>38    </td><td>female</td><td>1     </td></tr>\n",
       "\t<tr><th scope=row>3</th><td>1     </td><td>26    </td><td>female</td><td>3     </td></tr>\n",
       "\t<tr><th scope=row>4</th><td>1     </td><td>35    </td><td>female</td><td>1     </td></tr>\n",
       "\t<tr><th scope=row>5</th><td>0   </td><td>35  </td><td>male</td><td>3   </td></tr>\n",
       "\t<tr><th scope=row>6</th><td>0   </td><td>NA  </td><td>male</td><td>3   </td></tr>\n",
       "</tbody>\n",
       "</table>\n"
      ],
      "text/latex": [
       "\\begin{tabular}{r|llll}\n",
       "  & Survived & Age & Sex & Pclass\\\\\n",
       "\\hline\n",
       "\t1 & 0    & 22   & male & 3   \\\\\n",
       "\t2 & 1      & 38     & female & 1     \\\\\n",
       "\t3 & 1      & 26     & female & 3     \\\\\n",
       "\t4 & 1      & 35     & female & 1     \\\\\n",
       "\t5 & 0    & 35   & male & 3   \\\\\n",
       "\t6 & 0    & NA   & male & 3   \\\\\n",
       "\\end{tabular}\n"
      ],
      "text/plain": [
       "  Survived Age    Sex Pclass\n",
       "1        0  22   male      3\n",
       "2        1  38 female      1\n",
       "3        1  26 female      3\n",
       "4        1  35 female      1\n",
       "5        0  35   male      3\n",
       "6        0  NA   male      3"
      ]
     },
     "metadata": {},
     "output_type": "display_data"
    }
   ],
   "source": [
    "train <- data.frame(train$Survived, train$Age, train$Sex, train$Pclass); # select 4 columns of data frame\n",
    "names(train) <- c(\"Survived\", \"Age\", \"Sex\",\"Pclass\"); # rename columns from, e.g., train$Survived to Survived\n",
    "head(train) # display first 6 rows of data frame"
   ]
  },
  {
   "cell_type": "markdown",
   "metadata": {
    "slideshow": {
     "slide_type": "subslide"
    }
   },
   "source": [
    "The training data set contains age data on ~80% of the passengers in this sample (714 / 891):"
   ]
  },
  {
   "cell_type": "code",
   "execution_count": 6,
   "metadata": {
    "collapsed": false,
    "slideshow": {
     "slide_type": "fragment"
    }
   },
   "outputs": [
    {
     "name": "stdout",
     "output_type": "stream",
     "text": [
      "'data.frame':\t714 obs. of  4 variables:\n",
      " $ Survived: int  0 1 1 1 0 0 0 1 1 1 ...\n",
      " $ Age     : num  22 38 26 35 35 54 2 27 14 4 ...\n",
      " $ Sex     : Factor w/ 2 levels \"female\",\"male\": 2 1 1 1 2 2 2 1 1 1 ...\n",
      " $ Pclass  : int  3 1 3 1 3 1 3 3 2 3 ...\n"
     ]
    }
   ],
   "source": [
    "str(train[!is.na(train$Age),])"
   ]
  },
  {
   "cell_type": "markdown",
   "metadata": {
    "slideshow": {
     "slide_type": "subslide"
    }
   },
   "source": [
    "#### Let's drop rows without `Age` values:"
   ]
  },
  {
   "cell_type": "code",
   "execution_count": 7,
   "metadata": {
    "collapsed": false,
    "slideshow": {
     "slide_type": "fragment"
    }
   },
   "outputs": [
    {
     "data": {
      "text/plain": [
       "   Min. 1st Qu.  Median    Mean 3rd Qu.    Max. \n",
       "   0.42   20.12   28.00   29.70   38.00   80.00 "
      ]
     },
     "metadata": {},
     "output_type": "display_data"
    }
   ],
   "source": [
    "# Let's keep the data frame \"train\" intact for later use, and create a new one called \"train_age\"\n",
    "train_age <- train[!is.na(train$Age),] # strip \"train\" data of rows with Age=NULL\n",
    "summary(train_age$Age)                 # show some descriptive statistics of Age variable"
   ]
  },
  {
   "cell_type": "markdown",
   "metadata": {
    "slideshow": {
     "slide_type": "fragment"
    }
   },
   "source": [
    "This reduces our sample size to 714 observations, a little over 54% (714 / 1317) of the population. This may reduce the randomness of our sample since passengers missing age data may not have been randomly selected for discluding this information.\n",
    "\n",
    "The youngest passenger in this sample was 5 months old and the oldest was 80 years old, which seems quite a bit older than the average life expectancy of early to mid 50s for the year 1912 when the Titanic sank: http://demog.berkeley.edu/~andrew/1918/figure2.html"
   ]
  },
  {
   "cell_type": "markdown",
   "metadata": {
    "slideshow": {
     "slide_type": "subslide"
    }
   },
   "source": [
    "#### Let's take a look at the distribution of passenger ages:"
   ]
  },
  {
   "cell_type": "code",
   "execution_count": 8,
   "metadata": {
    "collapsed": false,
    "slideshow": {
     "slide_type": "fragment"
    }
   },
   "outputs": [
    {
     "data": {
      "image/png": "[encoded data removed]",
      "text/plain": [
       "plot without title"
      ]
     },
     "metadata": {
      "image/svg+xml": {
       "isolated": true
      }
     },
     "output_type": "display_data"
    }
   ],
   "source": [
    "# Overlay a probability distribution function (PDF) on a histogram of Age\n",
    "ggplot(train_age, aes(x=Age)) + \n",
    "    ggtitle(\"Passenger Age\") + \n",
    "    xlab(\"Age\") + \n",
    "    ylab(\"Density\") + \n",
    "    geom_histogram(aes(y=..density..), binwidth=1)+\n",
    "    geom_density(alpha=.5, fill=\"#FFFFFF\")"
   ]
  },
  {
   "cell_type": "markdown",
   "metadata": {
    "slideshow": {
     "slide_type": "subslide"
    }
   },
   "source": [
    "We can see the discrepancies at extreme ages with a normal quantile plot. The data is noticeably right-skewed, although there is clear dip in the number of pre-teen and teenage passengers. "
   ]
  },
  {
   "cell_type": "code",
   "execution_count": 9,
   "metadata": {
    "collapsed": false,
    "slideshow": {
     "slide_type": "fragment"
    }
   },
   "outputs": [
    {
     "data": {
      "image/png": "[encoded data removed]",
      "text/plain": [
       "Plot with title “Passenger Age: Normal Quantile Plot”"
      ]
     },
     "metadata": {
      "image/svg+xml": {
       "isolated": true
      }
     },
     "output_type": "display_data"
    }
   ],
   "source": [
    "qqnorm(train_age$Age, main=\"Passenger Age: Normal Quantile Plot\")\n",
    "qqline(train_age$Age)"
   ]
  },
  {
   "cell_type": "markdown",
   "metadata": {
    "slideshow": {
     "slide_type": "subslide"
    }
   },
   "source": [
    "### 2.1 Independence: \n",
    "- random sample/assignment \n",
    "- 10% condition when sampling without replacement\n",
    "\n",
    "### 2.2 Sample size/skew:\n",
    "- $n \\ge 30$ (or larger if sample is skewed)\n",
    "- no extreme skew\n",
    "\n",
    "### 2.3 Interrelationship between independence and sample size/skew"
   ]
  },
  {
   "cell_type": "markdown",
   "metadata": {
    "slideshow": {
     "slide_type": "subslide"
    }
   },
   "source": [
    "Now let's discretize the ages into two groups - adults and children. We'll choose 18 years old as the minimum age for an adult. There are 113 children in the data set:"
   ]
  },
  {
   "cell_type": "code",
   "execution_count": 10,
   "metadata": {
    "collapsed": false,
    "slideshow": {
     "slide_type": "fragment"
    }
   },
   "outputs": [
    {
     "data": {
      "text/html": [
       "113"
      ],
      "text/latex": [
       "113"
      ],
      "text/markdown": [
       "113"
      ],
      "text/plain": [
       "[1] 113"
      ]
     },
     "metadata": {},
     "output_type": "display_data"
    }
   ],
   "source": [
    "length(which(train_age$Age < 18))"
   ]
  },
  {
   "cell_type": "code",
   "execution_count": 11,
   "metadata": {
    "collapsed": false,
    "slideshow": {
     "slide_type": "fragment"
    }
   },
   "outputs": [],
   "source": [
    "# Add a new categorical variable called \"AgeGroup\" with values \"Child\" or \"Adult\".\n",
    "train_age$AgeGroup <- \"Adult\"\n",
    "train_age$AgeGroup[train_age$Age < 18] <- \"Child\""
   ]
  },
  {
   "cell_type": "code",
   "execution_count": 16,
   "metadata": {
    "collapsed": false
   },
   "outputs": [
    {
     "data": {
      "text/plain": [
       "\n",
       " No Yes \n",
       "424 290 "
      ]
     },
     "metadata": {},
     "output_type": "display_data"
    }
   ],
   "source": [
    "# Add a new categorical variable called \"Lived\" with \"Yes\" or \"No\" instead of \"1\" or \"0\" for Survival.\n",
    "train_age$Lived[ train_age$Survived == 1 ] <- \"Yes\"\n",
    "train_age$Lived[ train_age$Survived == 0 ] <- \"No\"\n",
    "\n",
    "# Return a contingency table of the new Lived column.\n",
    "lived <- table( train_age$Lived )\n",
    "lived"
   ]
  },
  {
   "cell_type": "code",
   "execution_count": 17,
   "metadata": {
    "collapsed": false
   },
   "outputs": [
    {
     "data": {
      "text/plain": [
       "\n",
       "   No   Yes \n",
       "59.38 40.62 "
      ]
     },
     "metadata": {},
     "output_type": "display_data"
    }
   ],
   "source": [
    "# Create a contingency table with proportions.\n",
    "percent_lived <- round( 100*prop.table( lived ), 2 )\n",
    "percent_lived"
   ]
  },
  {
   "cell_type": "code",
   "execution_count": 18,
   "metadata": {
    "collapsed": false
   },
   "outputs": [
    {
     "data": {
      "image/png": "[encoded data removed]",
      "text/plain": [
       "Plot with title “Proportion of Titanic Passengers Who Lived”"
      ]
     },
     "metadata": {
      "image/svg+xml": {
       "isolated": true
      }
     },
     "output_type": "display_data"
    }
   ],
   "source": [
    "## Plots the lived proportions. Now fancier!\n",
    "## Reverses Yes and No\n",
    "## Labels the graph and the axes.\n",
    "## Colors Output\n",
    "## And adjusts the Y limit.\n",
    "barplot(sort(percent_lived, decreasing=FALSE),\n",
    "        main=\"Proportion of Titanic Passengers Who Lived\",\n",
    "        xlab=\"Lived?\", \n",
    "        ylab=\"Percent of Passengers\",\n",
    "        col=\"darkblue\",\n",
    "        ylim=c(0,100)\n",
    "        )"
   ]
  },
  {
   "cell_type": "markdown",
   "metadata": {
    "slideshow": {
     "slide_type": "subslide"
    }
   },
   "source": [
    "#### Let's display a contingency table of child/adult survival:\n",
    "We see that 54% of children and only 38% of adults survive. But the child population is much smaller than the adult one. "
   ]
  },
  {
   "cell_type": "code",
   "execution_count": 19,
   "metadata": {
    "collapsed": false,
    "slideshow": {
     "slide_type": "fragment"
    }
   },
   "outputs": [
    {
     "data": {
      "text/plain": [
       "       \n",
       "         No Yes\n",
       "  Adult 372 229\n",
       "  Child  52  61"
      ]
     },
     "metadata": {},
     "output_type": "display_data"
    }
   ],
   "source": [
    "# `table` creates a contingency table\n",
    "age_group_lived <- table(train_age$AgeGroup, train_age$Lived)\n",
    "age_group_lived"
   ]
  },
  {
   "cell_type": "code",
   "execution_count": 22,
   "metadata": {
    "collapsed": false,
    "slideshow": {
     "slide_type": "fragment"
    }
   },
   "outputs": [
    {
     "data": {
      "text/plain": [
       "       \n",
       "               No       Yes\n",
       "  Adult 0.6189684 0.3810316\n",
       "  Child 0.4601770 0.5398230"
      ]
     },
     "metadata": {},
     "output_type": "display_data"
    }
   ],
   "source": [
    "# `prop.table` gives the row percentages\n",
    "age_group_lived_prop <- prop.table(age_group_lived, margin=1) # 1 = rows, 2 = columns\n",
    "age_group_lived_prop"
   ]
  },
  {
   "cell_type": "markdown",
   "metadata": {
    "slideshow": {
     "slide_type": "slide"
    }
   },
   "source": [
    "## 3. Calculate a *test statistic* and a $p$-value (draw a picture!) \n",
    "\n",
    "$$Z = \\frac{\\bar{x} − \\mu}{\\textrm{SE}},$$\n",
    "where $$\\textrm{SE} = \\frac{s}{\\sqrt{n}}$$\n",
    "\n",
    "\"Compute from the observations the observed value of the test statistic.\" - *Wikipedia*\n",
    "\n",
    "\"Calculate the $p$-value. This is the probability, under the null hypothesis, of sampling a test statistic at least as extreme as that which was observed.\" - *Wikipedia*"
   ]
  },
  {
   "cell_type": "markdown",
   "metadata": {},
   "source": [
    "Our *test statistic* will be the proportion of passengers who survived. So the *population parameter* of interest is\n",
    "$$\\pi = \\frac{N_{\\rm survived}}{N},$$ \n",
    "where $N=1317$ is the total number of passengers in the population of all fare-paying Titanic passengers and $N_{\\rm survived} = $. We'll call the proportion $\\pi$ for the population parameter and $pi$ for the sample statistic."
   ]
  },
  {
   "cell_type": "code",
   "execution_count": null,
   "metadata": {
    "collapsed": true
   },
   "outputs": [],
   "source": []
  },
  {
   "cell_type": "code",
   "execution_count": 39,
   "metadata": {
    "collapsed": false
   },
   "outputs": [
    {
     "data": {
      "text/html": [
       "0.406162464985994"
      ],
      "text/latex": [
       "0.406162464985994"
      ],
      "text/markdown": [
       "0.406162464985994"
      ],
      "text/plain": [
       "[1] 0.4061625"
      ]
     },
     "metadata": {},
     "output_type": "display_data"
    },
    {
     "data": {
      "text/html": [
       "0.852238805970149"
      ],
      "text/latex": [
       "0.852238805970149"
      ],
      "text/markdown": [
       "0.852238805970149"
      ],
      "text/plain": [
       "[1] 0.8522388"
      ]
     },
     "metadata": {},
     "output_type": "display_data"
    },
    {
     "data": {
      "text/html": [
       "0.446076541723745"
      ],
      "text/latex": [
       "0.446076541723745"
      ],
      "text/markdown": [
       "0.446076541723745"
      ],
      "text/plain": [
       "[1] 0.4460765"
      ]
     },
     "metadata": {},
     "output_type": "display_data"
    },
    {
     "data": {
      "text/html": [
       "0.0360765417237448"
      ],
      "text/latex": [
       "0.0360765417237448"
      ],
      "text/markdown": [
       "0.0360765417237448"
      ],
      "text/plain": [
       "[1] 0.03607654"
      ]
     },
     "metadata": {},
     "output_type": "display_data"
    }
   ],
   "source": [
    "290 / (290+424)\n",
    "571 / 670\n",
    "0.41 + 1.96 * sqrt(0.41 * 0.59 / 714)\n",
    "1.96 * sqrt(0.41 * 0.59 / 714)"
   ]
  },
  {
   "cell_type": "markdown",
   "metadata": {
    "slideshow": {
     "slide_type": "subslide"
    }
   },
   "source": [
    "#### Is the difference in survival rates significant? Let's see with a permutation test:"
   ]
  },
  {
   "cell_type": "code",
   "execution_count": 23,
   "metadata": {
    "collapsed": false
   },
   "outputs": [
    {
     "data": {
      "text/plain": [
       "\n",
       "\t2-sample test for equality of proportions with continuity correction\n",
       "\n",
       "data:  age_group_lived\n",
       "X-squared = 9.2961, df = 1, p-value = 0.001148\n",
       "alternative hypothesis: greater\n",
       "95 percent confidence interval:\n",
       " 0.06981213 1.00000000\n",
       "sample estimates:\n",
       "   prop 1    prop 2 \n",
       "0.6189684 0.4601770 \n"
      ]
     },
     "metadata": {},
     "output_type": "display_data"
    }
   ],
   "source": [
    "## Hypothesis: Children are more likely to survive.\n",
    "## Run prop.test against the values, NOT the proportions.\n",
    "prop.test(age_group_lived, alternative = \"greater\")"
   ]
  },
  {
   "cell_type": "markdown",
   "metadata": {},
   "source": [
    "- The p-value is less that 0.05, so we can reject the null hypothesis.\n",
    "- Yes children were more likely to survive.\n",
    "- When passed a contingency table, R will calculate greater/less based on the FIRST COLUMN. Adjust your hypothesis accordingly."
   ]
  },
  {
   "cell_type": "code",
   "execution_count": 24,
   "metadata": {
    "collapsed": false
   },
   "outputs": [
    {
     "data": {
      "text/plain": [
       "Number of cases in table: 714 \n",
       "Number of factors: 2 \n",
       "Test for independence of all factors:\n",
       "\tChisq = 9.944, df = 1, p-value = 0.001614"
      ]
     },
     "metadata": {},
     "output_type": "display_data"
    }
   ],
   "source": [
    "## The summary() function can be used\n",
    "## to examine most R objects.\n",
    "summary(age_group_lived)"
   ]
  },
  {
   "cell_type": "code",
   "execution_count": 27,
   "metadata": {
    "collapsed": false
   },
   "outputs": [
    {
     "data": {
      "text/plain": [
       "    Survived           Age            Sex          Pclass     \n",
       " Min.   :0.0000   Min.   : 0.42   female:261   Min.   :1.000  \n",
       " 1st Qu.:0.0000   1st Qu.:20.12   male  :453   1st Qu.:1.000  \n",
       " Median :0.0000   Median :28.00                Median :2.000  \n",
       " Mean   :0.4062   Mean   :29.70                Mean   :2.237  \n",
       " 3rd Qu.:1.0000   3rd Qu.:38.00                3rd Qu.:3.000  \n",
       " Max.   :1.0000   Max.   :80.00                Max.   :3.000  \n",
       "   AgeGroup            Lived          \n",
       " Length:714         Length:714        \n",
       " Class :character   Class :character  \n",
       " Mode  :character   Mode  :character  \n",
       "                                      \n",
       "                                      \n",
       "                                      "
      ]
     },
     "metadata": {},
     "output_type": "display_data"
    }
   ],
   "source": [
    "summary(train_age)"
   ]
  },
  {
   "cell_type": "code",
   "execution_count": 25,
   "metadata": {
    "collapsed": false
   },
   "outputs": [
    {
     "data": {
      "image/png": "[encoded data removed]",
      "text/plain": [
       "Plot with title “age_group_lived”"
      ]
     },
     "metadata": {
      "image/svg+xml": {
       "isolated": true
      }
     },
     "output_type": "display_data"
    }
   ],
   "source": [
    "## The mosaicplot is another way of visualizing\n",
    "## complex relationships and can scale effectively\n",
    "## for many variables.\n",
    "mosaicplot(age_group_lived)"
   ]
  },
  {
   "cell_type": "code",
   "execution_count": null,
   "metadata": {
    "collapsed": false,
    "slideshow": {
     "slide_type": "fragment"
    }
   },
   "outputs": [],
   "source": [
    "adult_survival <- age_group_survived.prop[3]\n",
    "child_survival <- age_group_survived.prop[4]\n",
    "observed <-  child_survived / adult_survived\n",
    "observed # children are nearly 1.42x more likely to survive "
   ]
  },
  {
   "cell_type": "code",
   "execution_count": null,
   "metadata": {
    "collapsed": true,
    "slideshow": {
     "slide_type": "fragment"
    }
   },
   "outputs": [],
   "source": [
    "N=10^4-1 ; result <- numeric(N)  \n",
    "for (i in 1:N) {\n",
    "    index <- sample(nrow(train), size=154, replace=FALSE)\n",
    "    child_sample <- length(which(train$Survived[index] == 1)) / length(index)\n",
    "    adult_sample <- length(which(train$Survived[-index] == 1)) / (nrow(train) - length(index))\n",
    "    result[i] <- child_sample / adult_sample \n",
    "}"
   ]
  },
  {
   "cell_type": "code",
   "execution_count": null,
   "metadata": {
    "collapsed": false,
    "slideshow": {
     "slide_type": "subslide"
    }
   },
   "outputs": [],
   "source": [
    "qplot(result, binwidth=.05) + \n",
    "    geom_vline(xintercept = observed, color=\"red\") +#, label=\"Observed\") +\n",
    "    ggtitle(\"Permutation Test: Child Survival / Adult Survival\") + \n",
    "    xlab(\"Ratio\") + \n",
    "    ylab(\"Count\")"
   ]
  },
  {
   "cell_type": "code",
   "execution_count": null,
   "metadata": {
    "collapsed": false,
    "slideshow": {
     "slide_type": "fragment"
    }
   },
   "outputs": [],
   "source": [
    "pvalue = (sum (result >= observed) + 1)/(N+1); \n",
    "2 * pvalue "
   ]
  },
  {
   "cell_type": "markdown",
   "metadata": {
    "slideshow": {
     "slide_type": "slide"
    }
   },
   "source": [
    "## 4. Make a decision, and interpret it in the context of the research question\n",
    "\"Reject the null hypothesis, in favor of the alternative hypothesis, if and only if the `p`-value is less than the significance level (the selected probability) threshold.\" - *Wikipedia*\n",
    "\n",
    "- If $p$-value $< \\alpha$, reject $H_0$, data provide evidence for $H_A$\n",
    "- If $p$-value $> \\alpha$, do not reject $H_0$, data do not provide evidence for $H_A$"
   ]
  },
  {
   "cell_type": "markdown",
   "metadata": {
    "slideshow": {
     "slide_type": "fragment"
    }
   },
   "source": [
    "A near-zero p-value indicates that the evidence supports the alternative hypothesis that children are more likely to have survived.\n",
    "\n",
    "So, we should **reject the null hypothesis**.\n",
    "\n",
    "There's only a 0.1% chance you'd observe such an extreme statistic if our null hypothesis were true."
   ]
  },
  {
   "cell_type": "markdown",
   "metadata": {
    "slideshow": {
     "slide_type": "fragment"
    }
   },
   "source": [
    "|                    | Do Not Reject $H_0$                   | Reject $H_0$                         |\n",
    "|--------------------|:-------------------------------------:|:------------------------------------:|\n",
    "| **$H_0$ is True**  | *Correct Decision*<br>($1 - \\alpha$)  | *Type 1 Error*<br>($\\alpha$)         |\n",
    "| **$H_0$ is False** | *Type 2 Error*<br> ($\\beta)$          | *Correct Decision*<br> ($1 - \\beta)$ |"
   ]
  },
  {
   "cell_type": "markdown",
   "metadata": {
    "slideshow": {
     "slide_type": "slide"
    }
   },
   "source": [
    "## EXERCISE TIME!\n",
    "Now try working through hypothesis testing on `Pclass` or `Sex`!"
   ]
  },
  {
   "cell_type": "markdown",
   "metadata": {
    "slideshow": {
     "slide_type": "fragment"
    }
   },
   "source": [
    "### *Exercise:* Consider `Pclass` (passenger class) variable\n",
    "Next we could look at whether upper class passengers aboard the Titanic had a better chance of survival than lower class passengers. We would compare the proportion of upper class passengers who survived, $p_{\\rm upper}$, with the proportion of lower class passengers, $p_{\\rm lower}$.\n",
    "- $H_0$: $p_{\\rm upper} - p_{\\rm lower} = 0$ There is no significant difference in the chances of survival of upper and lower class passengers.\n",
    "- $H_A$: $p_{\\rm upper} - p_{\\rm lower} > 0$ There is a better chance of survival for upper class passengers. \n",
    "\n",
    "If you need ideas, check this blog post:\n",
    "https://www.analyticsvidhya.com/blog/2015/10/inferential-descriptive-statistics-beginners-r/"
   ]
  },
  {
   "cell_type": "markdown",
   "metadata": {
    "slideshow": {
     "slide_type": "fragment"
    }
   },
   "source": [
    "### *Exercise:* Consider `Sex` variable\n",
    "- Q1: Create a 2x2 Contingency table for Lived and Sex. Call it `sex_survival`.\n",
    "- Q2: What is the proportion of men who lived, compared to proportion of women?\n",
    "- Q3: Is the observed difference between the sexes in the survival rate statistically significant?"
   ]
  },
  {
   "cell_type": "markdown",
   "metadata": {
    "slideshow": {
     "slide_type": "slide"
    }
   },
   "source": [
    "## Final Comments"
   ]
  },
  {
   "cell_type": "markdown",
   "metadata": {
    "slideshow": {
     "slide_type": "subslide"
    }
   },
   "source": [
    "\n",
    "\"To do good *science*:\"\n",
    ">- Determine your hypotheses before looking at the data.\n",
    ">- Clean your data without the hypotheses in mind.\n",
    ">- Keep in mind that $p$-values are not substitutes for common sense.\n",
    "\n",
    "- *DS From Scratch*"
   ]
  },
  {
   "cell_type": "markdown",
   "metadata": {
    "slideshow": {
     "slide_type": "subslide"
    }
   },
   "source": [
    "## More Resources\n",
    "- http://gchang.people.ysu.edu/class/s5817/L/ReviewNote_5817.pdf\n",
    "- https://www.encyclopedia-titanica.org/\n",
    "- https://en.wikipedia.org/wiki/Resampling_(statistics)\n",
    "- https://lagunita.stanford.edu/courses/HumanitiesScience/StatLearning - Chapter 5: Resampling Methods\n",
    "- http://www.nature.com/news/scientific-method-statistical-errors-1.14700\n",
    "- https://ds8.gitbooks.io/textbook/content/chapter5/intro.html\n",
    "- [Statistics for Hackers](https://www.youtube.com/watch?v=Iq9DzN6mvYA) - PyCon 2016 talk by Jake Vanderplas"
   ]
  },
  {
   "cell_type": "markdown",
   "metadata": {
    "slideshow": {
     "slide_type": "fragment"
    }
   },
   "source": [
    "The notebook `2016-08-18-TitanicHypothesisTesting-python.ipynb` in this repository is the start of a translation of the current notebook in `R` to `Python`. If you'd like to help complete the translation, please fork the repository, make your changes, and issue a pull request!\n",
    "\n",
    "Thanks for coming!"
   ]
  }
 ],
 "metadata": {
  "celltoolbar": "Slideshow",
  "kernelspec": {
   "display_name": "R",
   "language": "R",
   "name": "ir"
  },
  "language_info": {
   "codemirror_mode": "r",
   "file_extension": ".r",
   "mimetype": "text/x-r-source",
   "name": "R",
   "pygments_lexer": "r",
   "version": "3.3.1"
  }
 },
 "nbformat": 4,
 "nbformat_minor": 0
}
