{
 "cells": [
  {
   "cell_type": "markdown",
   "metadata": {
    "collapsed": true,
    "slideshow": {
     "slide_type": "slide"
    }
   },
   "source": [
    "<img src=images/Stöwer_Titanic.jpg align=\"right\" width=\"15%\" style=\"margin-right:10%\">\n",
    "\n",
    "#### August 18, 2016 - Women in Data Science ATX Meetup - \"Data Science from Scratch\" Workshop #6\n",
    "\n",
    "# Hypothesis Testing on the Titanic Data Set with R"
   ]
  },
  {
   "cell_type": "markdown",
   "metadata": {
    "slideshow": {
     "slide_type": "subslide"
    }
   },
   "source": [
    "## 0. Preliminaries\n",
    "\n",
    "### 0.1 Setting Up the R Language Kernel For Jupyter\n",
    "https://www.continuum.io/blog/developer/jupyter-and-conda-r\n",
    "\n",
    "#### Assumption:\n",
    "You have Anaconda installed. If not, go here for instructions:  \n",
    "https://github.com/mGalarnyk/Installations_Mac_Ubuntu_Windows\n",
    "\n",
    "#### Summary:\n",
    "1. Open a shell and run this command to install `r-essentials` into the current environment:\n",
    "<pre><code>conda install -c r r-essentials\n",
    "</code></pre>\n",
    "OR, run this command to install it into a new environment:\n",
    "<pre><code>`conda create -n my-r-env -c r r-essentials`\n",
    "</code></pre>\n",
    "2. Start a new jupyter notebook session:\n",
    "<pre><code>`jupyter notebook`</code></pre>"
   ]
  },
  {
   "cell_type": "markdown",
   "metadata": {
    "slideshow": {
     "slide_type": "subslide"
    }
   },
   "source": [
    "#### Note:\n",
    "Beware that you may see traceback (error) messages that print one character per line, i.e., vertically. It looks like this bug has been fixed:  \n",
    "https://github.com/IRkernel/IRkernel/issues/261\n",
    "\n",
    "However, the date on the fix is later than the date of the latest release, IRkernel 0.6.1, so we'll just live with it for now:  \n",
    "https://github.com/IRkernel/IRkernel/releases"
   ]
  },
  {
   "cell_type": "code",
   "execution_count": 32,
   "metadata": {
    "collapsed": false,
    "slideshow": {
     "slide_type": "subslide"
    }
   },
   "outputs": [
    {
     "name": "stderr",
     "output_type": "stream",
     "text": [
      "\n",
      "Attaching package: ‘dplyr’\n",
      "\n",
      "The following objects are masked from ‘package:stats’:\n",
      "\n",
      "    filter, lag\n",
      "\n",
      "The following objects are masked from ‘package:base’:\n",
      "\n",
      "    intersect, setdiff, setequal, union\n",
      "\n"
     ]
    }
   ],
   "source": [
    "# Load libraries\n",
    "library(ggplot2)\n",
    "library(dplyr)\n",
    "library(repr)   \n",
    "\n",
    "# Change figure size to 6 x 4\n",
    "options(repr.plot.width=6, repr.plot.height=4)"
   ]
  },
  {
   "cell_type": "markdown",
   "metadata": {
    "slideshow": {
     "slide_type": "subslide"
    }
   },
   "source": [
    "### 0.2 Resources:\n",
    "- *(DS From Scratch)* [Data Science From Scratch](http://shop.oreilly.com/product/0636920033400.do) - Chapter 7: Hypothesis and Inference\n",
    "- *(IS)* \"Inferential Statistics\" course: https://www.coursera.org/learn/inferential-statistics-intro/\n",
    "- *(OIS)* \"OpenIntro Statistics\" book: https://www.openintro.org/stat/textbook.php?stat_book=os - Chapter 4: Foundations for Inference\n",
    "- *(PPA)* \"Practical Predictive Analytics: Models and Methods\" course: (https://www.coursera.org/learn/predictive-analytics/home/week/1) - Week 1: Practical Statistical Inference  \n",
    "- *(Wikipedia)*: https://en.wikipedia.org/wiki/Statistical_hypothesis_testing\n",
    "- http://gchang.people.ysu.edu/class/s5817/L/ReviewNote_5817.pdf\n",
    "- https://www.encyclopedia-titanica.org/\n",
    "- https://en.wikipedia.org/wiki/Resampling_(statistics)\n",
    "- https://lagunita.stanford.edu/courses/HumanitiesScience/StatLearning - Chapter 5: Resampling Methods\n",
    "- http://www.nature.com/news/scientific-method-statistical-errors-1.14700\n",
    "- https://ds8.gitbooks.io/textbook/content/chapter5/intro.html\n",
    "- [Statistics for Hackers](https://www.youtube.com/watch?v=Iq9DzN6mvYA) - PyCon 2016 talk by Jake Vanderplas\n",
    "\n",
    "Some code taken directly from:\n",
    "- https://www.analyticsvidhya.com/blog/2015/10/inferential-descriptive-statistics-beginners-r/\n",
    "- https://choens.github.io/titanic-workshop/03-eda-and-hypothesis-testing.html\n",
    "- https://rpubs.com/jeffrey6557/52266\n",
    "\n",
    "The files `train.csv` and `test.csv` were downloaded from https://www.kaggle.com/c/titanic/data."
   ]
  },
  {
   "cell_type": "markdown",
   "metadata": {
    "slideshow": {
     "slide_type": "subslide"
    }
   },
   "source": [
    "### 0.3 Overview\n",
    "Our goal in this workshop is to work through a couple of hypothesis tests on the same Titanic dataset that we've worked with in previous workshops. The Titanic data has already been randomly sampled into two files `train.csv` and `test.csv`. However, the file `test.csv` is unlabeled, so we won't use it unless we want to look at distributions of features over the entire set of passenger data. We will use `test.csv` as our *sample* from the *population* of all Titanic passengers (not including crew members).\n",
    "\n",
    "We'll follow the set of steps for statistical hypothesis testing outlined in the Wikipedia article on this topic. This should help to internalize the process of setting up and performing hypothesis tests."
   ]
  },
  {
   "cell_type": "markdown",
   "metadata": {},
   "source": [
    "## 1. State the null and alternative hypotheses\n",
    "\"The first step is to state the relevant null and alternative hypotheses. This is important, as mis-stating the hypotheses will muddy the rest of the process.\" - *Wikipedia*\n",
    "\n",
    "Examples of some general hypotheses:\n",
    "- \"This coin is fair.\"\n",
    "- \"Data scientists prefer Python to R.\"\n",
    "- \"People are more likely to navigate away from the page without ever reading the content if we pop up an irritating interstitial advertisement with a tiny, hard-to-find close button.\"\n",
    "\n",
    "\\- *DS From Scratch*"
   ]
  },
  {
   "cell_type": "markdown",
   "metadata": {
    "slideshow": {
     "slide_type": "slide"
    }
   },
   "source": [
    "Express the hypothesis you want to investigate as:\n",
    "- a **null hypothesis** $H_0$ that represents some default position, and\n",
    "- an **alternative hypothesis** $H_A$ that we'll compare $H_0$ with.\n",
    "\n",
    "Another way to think of this is that we want to compare an experimental group and a control group. Stated this way:\n",
    "- the **null hypothesis** claims that there is no difference between the groups, and\n",
    "- the **alternative hypothesis** claims that there is a statistically significant difference between the groups."
   ]
  },
  {
   "cell_type": "markdown",
   "metadata": {
    "slideshow": {
     "slide_type": "subslide"
    }
   },
   "source": [
    "### 1.1 *Example:* Consider `Age` variable\n",
    "We want to check the significance of the variable `Age` for hypothesis testing. Let's assume that children have a better chance of survival than adults.\n",
    "- $H_0$: There is no significant difference in the chances of survival of children and adults.\n",
    "- $H_A$: There is a better chance of survival for children."
   ]
  },
  {
   "cell_type": "markdown",
   "metadata": {
    "slideshow": {
     "slide_type": "fragment"
    }
   },
   "source": [
    "### 1.2 *Exercise:* Consider `Pclass` (passenger class) variable\n",
    "- $H_0$: There is no significant difference in the chances of survival of upper and lower class passengers.\n",
    "- $H_A$: There is a better chance of survival for upper class passengers. \n",
    "\n",
    "If you need ideas, check this blog post:\n",
    "https://www.analyticsvidhya.com/blog/2015/10/inferential-descriptive-statistics-beginners-r/"
   ]
  },
  {
   "cell_type": "markdown",
   "metadata": {
    "slideshow": {
     "slide_type": "fragment"
    }
   },
   "source": [
    "Below we will define \"significant difference\" and use statistics to decide whether we can reject the null hypothesis ($H_0$) or not. "
   ]
  },
  {
   "cell_type": "markdown",
   "metadata": {
    "slideshow": {
     "slide_type": "slide"
    }
   },
   "source": [
    "## 2. Discuss Titanic data collection\n",
    "\"The second step is to consider the statistical assumptions being made about the sample in doing the test; for example, assumptions about the statistical independence or about the form of the distributions of the observations. This is equally important as invalid assumptions will mean that the results of the test are invalid.\" - *Wikipedia*\n",
    "\n",
    "In hypothesis testing the \"control\" and \"experimental\" groups are typically defined through careful experimental design. This is not usually the case in data science applications, though. An exception is collecting click-through data in an A/B test that measures the effect of new ad placement on your website compared to the control group, or existing placement. - *PPA*"
   ]
  },
  {
   "cell_type": "markdown",
   "metadata": {
    "slideshow": {
     "slide_type": "subslide"
    }
   },
   "source": [
    "#### Let's consider the Titanic data set:"
   ]
  },
  {
   "cell_type": "code",
   "execution_count": 47,
   "metadata": {
    "collapsed": false,
    "slideshow": {
     "slide_type": "fragment"
    }
   },
   "outputs": [
    {
     "name": "stdout",
     "output_type": "stream",
     "text": [
      "'data.frame':\t891 obs. of  12 variables:\n",
      " $ PassengerId: int  1 2 3 4 5 6 7 8 9 10 ...\n",
      " $ Survived   : int  0 1 1 1 0 0 0 0 1 1 ...\n",
      " $ Pclass     : int  3 1 3 1 3 3 1 3 3 2 ...\n",
      " $ Name       : Factor w/ 891 levels \"Abbing, Mr. Anthony\",..: 109 191 358 277 16 559 520 629 417 581 ...\n",
      " $ Sex        : Factor w/ 2 levels \"female\",\"male\": 2 1 1 1 2 2 2 2 1 1 ...\n",
      " $ Age        : num  22 38 26 35 35 NA 54 2 27 14 ...\n",
      " $ SibSp      : int  1 1 0 1 0 0 0 3 0 1 ...\n",
      " $ Parch      : int  0 0 0 0 0 0 0 1 2 0 ...\n",
      " $ Ticket     : Factor w/ 681 levels \"110152\",\"110413\",..: 524 597 670 50 473 276 86 396 345 133 ...\n",
      " $ Fare       : num  7.25 71.28 7.92 53.1 8.05 ...\n",
      " $ Cabin      : Factor w/ 148 levels \"\",\"A10\",\"A14\",..: 1 83 1 57 1 1 131 1 1 1 ...\n",
      " $ Embarked   : Factor w/ 4 levels \"\",\"C\",\"Q\",\"S\": 4 2 4 4 4 3 4 4 4 2 ...\n"
     ]
    }
   ],
   "source": [
    "train <- read.csv(\"data/train.csv\")  # read in Titanic training data csv file to R data frame\n",
    "str(train)                           # display data frame using R `str` function"
   ]
  },
  {
   "cell_type": "markdown",
   "metadata": {
    "slideshow": {
     "slide_type": "fragment"
    }
   },
   "source": [
    "The training data is a sample of 891 passengers from the population size of the approximate [1317 total passengers](http://www.titanicfacts.net/titanic-passengers.html) on board who paid a fare (i.e., not crew members). This is over 67% of all fare-paying passengers aboard the Titanic when it sank. "
   ]
  },
  {
   "cell_type": "markdown",
   "metadata": {
    "slideshow": {
     "slide_type": "subslide"
    }
   },
   "source": [
    "There are 12 columns, but we will look at just a few:\n",
    "- 1 numerical: age\n",
    "- 3 categorial/logical: passenger class, sex, survival"
   ]
  },
  {
   "cell_type": "code",
   "execution_count": 48,
   "metadata": {
    "collapsed": false,
    "slideshow": {
     "slide_type": "fragment"
    }
   },
   "outputs": [
    {
     "data": {
      "text/html": [
       "<table>\n",
       "<thead><tr><th></th><th scope=col>Survived</th><th scope=col>Age</th><th scope=col>Sex</th><th scope=col>Pclass</th></tr></thead>\n",
       "<tbody>\n",
       "\t<tr><th scope=row>1</th><td>0   </td><td>22  </td><td>male</td><td>3   </td></tr>\n",
       "\t<tr><th scope=row>2</th><td>1     </td><td>38    </td><td>female</td><td>1     </td></tr>\n",
       "\t<tr><th scope=row>3</th><td>1     </td><td>26    </td><td>female</td><td>3     </td></tr>\n",
       "\t<tr><th scope=row>4</th><td>1     </td><td>35    </td><td>female</td><td>1     </td></tr>\n",
       "\t<tr><th scope=row>5</th><td>0   </td><td>35  </td><td>male</td><td>3   </td></tr>\n",
       "\t<tr><th scope=row>6</th><td>0   </td><td>NA  </td><td>male</td><td>3   </td></tr>\n",
       "</tbody>\n",
       "</table>\n"
      ],
      "text/latex": [
       "\\begin{tabular}{r|llll}\n",
       "  & Survived & Age & Sex & Pclass\\\\\n",
       "\\hline\n",
       "\t1 & 0    & 22   & male & 3   \\\\\n",
       "\t2 & 1      & 38     & female & 1     \\\\\n",
       "\t3 & 1      & 26     & female & 3     \\\\\n",
       "\t4 & 1      & 35     & female & 1     \\\\\n",
       "\t5 & 0    & 35   & male & 3   \\\\\n",
       "\t6 & 0    & NA   & male & 3   \\\\\n",
       "\\end{tabular}\n"
      ],
      "text/plain": [
       "  Survived Age    Sex Pclass\n",
       "1        0  22   male      3\n",
       "2        1  38 female      1\n",
       "3        1  26 female      3\n",
       "4        1  35 female      1\n",
       "5        0  35   male      3\n",
       "6        0  NA   male      3"
      ]
     },
     "metadata": {},
     "output_type": "display_data"
    }
   ],
   "source": [
    "train <- data.frame(train$Survived, train$Age, train$Sex, train$Pclass); \n",
    "names(train) <- c(\"Survived\", \"Age\", \"Sex\",\"Pclass\"); # rename columns and \n",
    "head(train) # display first 6 rows of data frame"
   ]
  },
  {
   "cell_type": "code",
   "execution_count": 46,
   "metadata": {
    "collapsed": false,
    "slideshow": {
     "slide_type": "-"
    }
   },
   "outputs": [
    {
     "name": "stdout",
     "output_type": "stream",
     "text": [
      "Classes ‘tbl_df’, ‘tbl’ and 'data.frame':\t1309 obs. of  3 variables:\n",
      " $ Age   : num  22 38 26 35 35 NA 54 2 27 14 ...\n",
      " $ Sex   : Factor w/ 2 levels \"female\",\"male\": 2 1 1 1 2 2 2 2 1 1 ...\n",
      " $ Pclass: int  3 1 3 1 3 3 1 3 3 2 ...\n"
     ]
    }
   ],
   "source": [
    "# # UNCOMMENT TO LOOK AT FULL SET OF DATA (WITHOUT SURVIVAL LABELS)\n",
    "# test  <- read.csv('data/test.csv')   # read in Titanic test data csv file\n",
    "\n",
    "# Look at just Age, Sex and Pclass, and disclude Survived since the training data is unlabeled\n",
    "# train <- data.frame(train$Age, train$Sex, train$Pclass);  \n",
    "# test  <- data.frame(test$Age, test$Sex, test$Pclass);\n",
    "# names(train) <- c(\"Age\", \"Sex\",\"Pclass\"); # rename column variables\n",
    "# names(test)  <- c(\"Age\", \"Sex\",\"Pclass\");\n",
    "\n",
    "# full  <- bind_rows(train, test)      # bind training & test data\n",
    "# str(full)                           "
   ]
  },
  {
   "cell_type": "markdown",
   "metadata": {
    "slideshow": {
     "slide_type": "subslide"
    }
   },
   "source": [
    "The training data set contains age data on ~80% of the passengers in this sample (714 / 891):"
   ]
  },
  {
   "cell_type": "code",
   "execution_count": 55,
   "metadata": {
    "collapsed": false,
    "slideshow": {
     "slide_type": "fragment"
    }
   },
   "outputs": [
    {
     "name": "stdout",
     "output_type": "stream",
     "text": [
      "'data.frame':\t714 obs. of  4 variables:\n",
      " $ Survived: int  0 1 1 1 0 0 0 1 1 1 ...\n",
      " $ Age     : num  22 38 26 35 35 54 2 27 14 4 ...\n",
      " $ Sex     : Factor w/ 2 levels \"female\",\"male\": 2 1 1 1 2 2 2 1 1 1 ...\n",
      " $ Pclass  : int  3 1 3 1 3 1 3 3 2 3 ...\n"
     ]
    }
   ],
   "source": [
    "str(train[!is.na(train$Age),])"
   ]
  },
  {
   "cell_type": "markdown",
   "metadata": {
    "slideshow": {
     "slide_type": "subslide"
    }
   },
   "source": [
    "#### Let's drop rows without Age values:"
   ]
  },
  {
   "cell_type": "code",
   "execution_count": 50,
   "metadata": {
    "collapsed": false,
    "slideshow": {
     "slide_type": "fragment"
    }
   },
   "outputs": [
    {
     "data": {
      "text/plain": [
       "   Min. 1st Qu.  Median    Mean 3rd Qu.    Max. \n",
       "   0.42   20.12   28.00   29.70   38.00   80.00 "
      ]
     },
     "metadata": {},
     "output_type": "display_data"
    }
   ],
   "source": [
    "train_age <- train[!is.na(train$Age),] # strip data of rows with Age=NULL\n",
    "summary(train_age$Age)                 # show some descriptive statistics of Age variable"
   ]
  },
  {
   "cell_type": "markdown",
   "metadata": {
    "slideshow": {
     "slide_type": "fragment"
    }
   },
   "source": [
    "This reduces our sample size to 714 observations, a little over 54% (714 / 1317) of the population. This may reduce the randomness of our sample since passengers missing age data may not have been randomly selected for discluding this information.\n",
    "\n",
    "The youngest passenger in this sample was 5 months old and the oldest was 80 years old, which seems quite a bit older than the average life expectancy of early to mid 50s for the year 1912 when the Titanic sank: http://demog.berkeley.edu/~andrew/1918/figure2.html"
   ]
  },
  {
   "cell_type": "markdown",
   "metadata": {
    "slideshow": {
     "slide_type": "subslide"
    }
   },
   "source": [
    "#### Let's take a look at the distribution of passenger ages:"
   ]
  },
  {
   "cell_type": "code",
   "execution_count": 52,
   "metadata": {
    "collapsed": false,
    "slideshow": {
     "slide_type": "fragment"
    }
   },
   "outputs": [
    {
     "data": {
      "image/png": "[encoded data removed]",
      "text/plain": [
       "plot without title"
      ]
     },
     "metadata": {
      "image/svg+xml": {
       "isolated": true
      }
     },
     "output_type": "display_data"
    }
   ],
   "source": [
    "# Overlay a probability distribution function (PDF) on a histogram of Age\n",
    "ggplot(train_age, aes(x=Age)) + \n",
    "    ggtitle(\"Passenger Age\") + \n",
    "    xlab(\"Age\") + \n",
    "    ylab(\"Density\") + \n",
    "    geom_histogram(aes(y=..density..), binwidth=1)+\n",
    "    geom_density(alpha=.5, fill=\"#FFFFFF\")"
   ]
  },
  {
   "cell_type": "markdown",
   "metadata": {
    "slideshow": {
     "slide_type": "subslide"
    }
   },
   "source": [
    "We can see the discrepancies at extreme ages with a normal quantile plot. The data is noticeably right-skewed, although there is clear dip in the number of pre-teen and teenage passengers. "
   ]
  },
  {
   "cell_type": "code",
   "execution_count": 53,
   "metadata": {
    "collapsed": false,
    "slideshow": {
     "slide_type": "fragment"
    }
   },
   "outputs": [
    {
     "data": {
      "image/png": "[encoded data removed]",
      "text/plain": [
       "Plot with title “Passenger Age: Normal Quantile Plot”"
      ]
     },
     "metadata": {
      "image/svg+xml": {
       "isolated": true
      }
     },
     "output_type": "display_data"
    }
   ],
   "source": [
    "qqnorm(train_age$Age, main=\"Passenger Age: Normal Quantile Plot\")\n",
    "qqline(train_age$Age)"
   ]
  },
  {
   "cell_type": "markdown",
   "metadata": {
    "slideshow": {
     "slide_type": "subslide"
    }
   },
   "source": [
    "Now let's discretize the ages into two groups - adults and children. We'll choose 18 years old as the minimum age for an adult. There are 113 children in the data set:"
   ]
  },
  {
   "cell_type": "code",
   "execution_count": 54,
   "metadata": {
    "collapsed": false,
    "slideshow": {
     "slide_type": "fragment"
    }
   },
   "outputs": [
    {
     "data": {
      "text/html": [
       "113"
      ],
      "text/latex": [
       "113"
      ],
      "text/markdown": [
       "113"
      ],
      "text/plain": [
       "[1] 113"
      ]
     },
     "metadata": {},
     "output_type": "display_data"
    }
   ],
   "source": [
    "length(which(train_age$Age < 18))"
   ]
  },
  {
   "cell_type": "code",
   "execution_count": 57,
   "metadata": {
    "collapsed": false,
    "slideshow": {
     "slide_type": "fragment"
    }
   },
   "outputs": [],
   "source": [
    "# Add a new categorical variable called \"age_group\" for child/adult.\n",
    "train_age$age_group <- \"adult\"\n",
    "train_age$age_group[train_age$Age < 18] <- \"child\""
   ]
  },
  {
   "cell_type": "markdown",
   "metadata": {
    "slideshow": {
     "slide_type": "subslide"
    }
   },
   "source": [
    "#### Let's display a contingency table of child/adult survival:\n",
    "We see that 54% of children and only 38% of adults survive. But the child population is much smaller than the adult one. "
   ]
  },
  {
   "cell_type": "code",
   "execution_count": 58,
   "metadata": {
    "collapsed": false,
    "slideshow": {
     "slide_type": "fragment"
    }
   },
   "outputs": [
    {
     "data": {
      "text/plain": [
       "       \n",
       "          0   1\n",
       "  adult 372 229\n",
       "  child  52  61"
      ]
     },
     "metadata": {},
     "output_type": "display_data"
    }
   ],
   "source": [
    "age_group.Survived <- table(train_age$age_group, train_age$Survived); age_group.Survived"
   ]
  },
  {
   "cell_type": "code",
   "execution_count": 59,
   "metadata": {
    "collapsed": false,
    "slideshow": {
     "slide_type": "fragment"
    }
   },
   "outputs": [
    {
     "data": {
      "text/plain": [
       "       \n",
       "                0         1\n",
       "  adult 0.6189684 0.3810316\n",
       "  child 0.4601770 0.5398230"
      ]
     },
     "metadata": {},
     "output_type": "display_data"
    }
   ],
   "source": [
    "age_group_survived.prop <- prop.table(age_group.Survived, 1); age_group_survived.prop"
   ]
  },
  {
   "cell_type": "markdown",
   "metadata": {
    "slideshow": {
     "slide_type": "slide"
    }
   },
   "source": [
    "## 3. Decide on test and test statistic\n",
    "\"Decide which test is appropriate, and state the relevant test statistic T.\" - *Wikipedia*"
   ]
  },
  {
   "cell_type": "markdown",
   "metadata": {
    "slideshow": {
     "slide_type": "slide"
    }
   },
   "source": [
    "## 4. Calculate the test statistic from the data\n",
    "\"Compute from the observations the observed value $t_\\rm{obs}$ of the test statistic $T$.\" - *Wikipedia*"
   ]
  },
  {
   "cell_type": "markdown",
   "metadata": {
    "slideshow": {
     "slide_type": "subslide"
    }
   },
   "source": [
    "#### Is the difference in survival rates significant? Let's see with a permutation test:"
   ]
  },
  {
   "cell_type": "code",
   "execution_count": 60,
   "metadata": {
    "collapsed": false,
    "slideshow": {
     "slide_type": "fragment"
    }
   },
   "outputs": [
    {
     "data": {
      "text/html": [
       "1.41674073501565"
      ],
      "text/latex": [
       "1.41674073501565"
      ],
      "text/markdown": [
       "1.41674073501565"
      ],
      "text/plain": [
       "[1] 1.416741"
      ]
     },
     "metadata": {},
     "output_type": "display_data"
    }
   ],
   "source": [
    "adult_survived <- age_group_survived.prop[3]\n",
    "child_survived <- age_group_survived.prop[4]\n",
    "observed <-  child_survived / adult_survived; observed # children are nearly 1.42x more likely to survive "
   ]
  },
  {
   "cell_type": "code",
   "execution_count": 61,
   "metadata": {
    "collapsed": true,
    "slideshow": {
     "slide_type": "fragment"
    }
   },
   "outputs": [],
   "source": [
    "N=10^4-1 ; result <- numeric(N)  \n",
    "for (i in 1:N) {\n",
    "    index <- sample(nrow(train), size=154, replace=FALSE)\n",
    "    child_sample <- length(which(train$Survived[index] == 1)) / length(index)\n",
    "    adult_sample <- length(which(train$Survived[-index] == 1)) / (nrow(train) - length(index))\n",
    "    result[i] <- child_sample / adult_sample \n",
    "}"
   ]
  },
  {
   "cell_type": "code",
   "execution_count": 62,
   "metadata": {
    "collapsed": false,
    "slideshow": {
     "slide_type": "subslide"
    }
   },
   "outputs": [
    {
     "data": {
      "image/png": "[encoded data removed]",
      "text/plain": [
       "plot without title"
      ]
     },
     "metadata": {
      "image/svg+xml": {
       "isolated": true
      }
     },
     "output_type": "display_data"
    }
   ],
   "source": [
    "qplot(result, binwidth=.05) + \n",
    "    geom_vline(xintercept = observed, color=\"red\") +#, label=\"Observed\") +\n",
    "    ggtitle(\"Permutation Test: Child Survival / Adult Survival\") + \n",
    "    xlab(\"Ratio\") + \n",
    "    ylab(\"Count\")"
   ]
  },
  {
   "cell_type": "markdown",
   "metadata": {
    "slideshow": {
     "slide_type": "slide"
    }
   },
   "source": [
    "## 5. Calculate the $p$-value\n",
    "\"Calculate the `p`-value. This is the probability, under the null hypothesis, of sampling a test statistic at least as extreme as that which was observed.\" - *Wikipedia*"
   ]
  },
  {
   "cell_type": "code",
   "execution_count": 63,
   "metadata": {
    "collapsed": false,
    "slideshow": {
     "slide_type": "fragment"
    }
   },
   "outputs": [
    {
     "data": {
      "text/html": [
       "0.001"
      ],
      "text/latex": [
       "0.001"
      ],
      "text/markdown": [
       "0.001"
      ],
      "text/plain": [
       "[1] 0.001"
      ]
     },
     "metadata": {},
     "output_type": "display_data"
    }
   ],
   "source": [
    "pvalue = (sum (result >= observed) + 1)/(N+1); 2*pvalue "
   ]
  },
  {
   "cell_type": "markdown",
   "metadata": {
    "slideshow": {
     "slide_type": "slide"
    }
   },
   "source": [
    "## 6. Should we reject the null hypothesis?\n",
    "\"Reject the null hypothesis, in favor of the alternative hypothesis, if and only if the `p`-value is less than the significance level (the selected probability) threshold.\" - *Wikipedia*"
   ]
  },
  {
   "cell_type": "markdown",
   "metadata": {
    "slideshow": {
     "slide_type": "fragment"
    }
   },
   "source": [
    "A near-zero p-value indicates that the evidence supports the hypothesis that children are more likely to have survived.\n",
    "\n",
    "So, we should **reject** the null hypothesis."
   ]
  },
  {
   "cell_type": "markdown",
   "metadata": {
    "slideshow": {
     "slide_type": "fragment"
    }
   },
   "source": [
    "|                    | Do Not Reject $H_0$                   | Reject $H_0$                         |\n",
    "|--------------------|:-------------------------------------:|:------------------------------------:|\n",
    "| **$H_0$ is True**  | *Correct Decision*<br>($1 - \\alpha$)  | *Type 1 Error*<br>($\\alpha$)         |\n",
    "| **$H_0$ is False** | *Type 2 Error*<br> ($\\beta)$          | *Correct Decision*<br> ($1 - \\beta)$ |"
   ]
  },
  {
   "cell_type": "markdown",
   "metadata": {
    "slideshow": {
     "slide_type": "slide"
    }
   },
   "source": [
    "## EXERCISE TIME!\n",
    "Now try working through hypothesis testing on `Pclass` or `Sex`!"
   ]
  },
  {
   "cell_type": "markdown",
   "metadata": {
    "slideshow": {
     "slide_type": "slide"
    }
   },
   "source": [
    "## Final Comments"
   ]
  },
  {
   "cell_type": "markdown",
   "metadata": {
    "slideshow": {
     "slide_type": "subslide"
    }
   },
   "source": [
    "\n",
    "\"To do good *science*:\"\n",
    ">- Determine your hypotheses before looking at the data.\n",
    ">- Clean your data without the hypotheses in mind.\n",
    ">- Keep in mind that $p$-values are not substitutes for common sense.\n",
    "\n",
    "- *DS From Scratch*"
   ]
  }
 ],
 "metadata": {
  "celltoolbar": "Slideshow",
  "kernelspec": {
   "display_name": "R",
   "language": "R",
   "name": "ir"
  },
  "language_info": {
   "codemirror_mode": "r",
   "file_extension": ".r",
   "mimetype": "text/x-r-source",
   "name": "R",
   "pygments_lexer": "r",
   "version": "3.3.1"
  }
 },
 "nbformat": 4,
 "nbformat_minor": 0
}
