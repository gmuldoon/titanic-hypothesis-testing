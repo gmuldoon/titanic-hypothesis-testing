{
 "cells": [
  {
   "cell_type": "markdown",
   "metadata": {
    "collapsed": true,
    "slideshow": {
     "slide_type": "slide"
    }
   },
   "source": [
    "<img src=images/Stöwer_Titanic.jpg align=\"right\" width=\"15%\" style=\"margin-right:10%\">\n",
    "\n",
    "#### August 18, 2016 - Women in Data Science ATX Meetup - \"Data Science from Scratch\" Workshop #6\n",
    "\n",
    "# Hypothesis Testing on the Titanic Data Set with R"
   ]
  },
  {
   "cell_type": "markdown",
   "metadata": {
    "slideshow": {
     "slide_type": "subslide"
    }
   },
   "source": [
    "## 0. Preliminaries\n",
    "\n",
    "### 0.1 Set up the R language kernel for Jupyter + load libraries\n",
    "https://www.continuum.io/blog/developer/jupyter-and-conda-r\n",
    "\n",
    "#### Assumption:\n",
    "You have Anaconda installed. If not, go here for instructions:  \n",
    "https://github.com/mGalarnyk/Installations_Mac_Ubuntu_Windows\n",
    "\n",
    "#### Summary:\n",
    "1. Open a shell and run this command to install `r-essentials` into the current environment:\n",
    "<pre><code>conda install -c r r-essentials\n",
    "</code></pre>\n",
    "OR, run this command to install it into a new environment:\n",
    "<pre><code>conda create -n my-r-env -c r r-essentials\n",
    "</code></pre>\n",
    "2. Start a new jupyter notebook session:\n",
    "<pre><code>jupyter notebook</code></pre>"
   ]
  },
  {
   "cell_type": "markdown",
   "metadata": {
    "slideshow": {
     "slide_type": "subslide"
    }
   },
   "source": [
    "#### Note:\n",
    "Beware that you may sometimes get traceback (error) messages that print one character per line, i.e., vertically. It looks like this bug has been fixed:  \n",
    "https://github.com/IRkernel/IRkernel/issues/261\n",
    "\n",
    "However, the date on the fix is later than the date of the latest release, IRkernel 0.6.1, so we'll just live with it for now:  \n",
    "https://github.com/IRkernel/IRkernel/releases"
   ]
  },
  {
   "cell_type": "code",
   "execution_count": 34,
   "metadata": {
    "collapsed": false,
    "slideshow": {
     "slide_type": "subslide"
    }
   },
   "outputs": [],
   "source": [
    "# Load libraries\n",
    "library(ggplot2) # visualization\n",
    "library(dplyr)   # data manipulation\n",
    "library(repr)    # used only to change default figure size\n",
    "\n",
    "# Change figure size\n",
    "options(repr.plot.width=6, repr.plot.height=4)"
   ]
  },
  {
   "cell_type": "markdown",
   "metadata": {
    "slideshow": {
     "slide_type": "subslide"
    }
   },
   "source": [
    "### 0.2 Resources\n",
    "- *(DS From Scratch)* [Data Science From Scratch](http://shop.oreilly.com/product/0636920033400.do) - Chapter 7: Hypothesis and Inference\n",
    "- *(OIS)* \"OpenIntro Statistics\" book: https://www.openintro.org/stat/textbook.php?stat_book=os - Chapter 4: Foundations for Inference\n",
    "- *(PPA)* \"Practical Predictive Analytics: Models and Methods\" course: (https://www.coursera.org/learn/predictive-analytics/home/week/1) - Week 1: Practical Statistical Inference  \n",
    "- *(Wikipedia)*: https://en.wikipedia.org/wiki/Statistical_hypothesis_testing\n",
    "\n",
    "Some text taken directly from:\n",
    "- *(IS)* \"Inferential Statistics\" course: https://www.coursera.org/learn/inferential-statistics-intro/\n",
    "\n",
    "Some code taken directly from:\n",
    "- https://choens.github.io/titanic-workshop/03-eda-and-hypothesis-testing.html\n",
    "- https://rpubs.com/jeffrey6557/52266\n",
    "\n",
    "The files `train.csv` and `test.csv` were downloaded from https://www.kaggle.com/c/titanic/data."
   ]
  },
  {
   "cell_type": "markdown",
   "metadata": {
    "slideshow": {
     "slide_type": "subslide"
    }
   },
   "source": [
    "### 0.3 Overview\n",
    "Our goal in this workshop is to work through a hypothesis test on the same Titanic dataset that we've worked with in previous workshops. The Titanic data comes to us already having been randomly sampled into two files `train.csv` and `test.csv`. However, the file `test.csv` is unlabeled, so we won't use it unless we want to look at distributions of variables over the entire set of passenger data. \n",
    "\n",
    "We will be considering a *sample* from the *population* of all Titanic passengers (not including crew members). There were approximately [1317 passengers](http://www.titanicfacts.net/titanic-passengers.html) on board the Titanic when it sank.\n",
    "\n",
    "We'll follow a general set of steps for statistical hypothesis testing."
   ]
  },
  {
   "cell_type": "markdown",
   "metadata": {
    "slideshow": {
     "slide_type": "slide"
    }
   },
   "source": [
    "## 1. Set the hypotheses\n",
    "\"The first step is to state the relevant null and alternative hypotheses. This is important, as mis-stating the hypotheses will muddy the rest of the process.\" - *Wikipedia*\n",
    "\n",
    "Here are some examples of general hypotheses:\n",
    "- \"This coin is fair.\"\n",
    "- \"Data scientists prefer Python to R.\"\n",
    "- \"People are more likely to navigate away from the page without ever reading the content if we pop up an irritating interstitial advertisement with a tiny, hard-to-find close button.\"\n",
    "\n",
    "\\- *DS From Scratch*"
   ]
  },
  {
   "cell_type": "markdown",
   "metadata": {
    "slideshow": {
     "slide_type": "slide"
    }
   },
   "source": [
    "Next, express the hypothesis you want to investigate as:\n",
    "- a **null hypothesis** $H_0$ that represents some default position, and\n",
    "- an **alternative hypothesis** $H_A$ that we'll compare $H_0$ with.\n",
    "\n",
    "Another way to think of this is that we want to compare an experimental group and a control group. Stated this way:\n",
    "- the **null hypothesis** claims that there is no difference between the groups, and\n",
    "- the **alternative hypothesis** claims that there is a statistically significant difference between the groups."
   ]
  },
  {
   "cell_type": "markdown",
   "metadata": {
    "slideshow": {
     "slide_type": "subslide"
    }
   },
   "source": [
    "### *Example:* Consider `Age` variable of Titanic data set\n",
    "We've heard that women and children were asked to get on the lifeboats first when the Titanic was sinking. So let's investigate the general hypothesis that children aboard the Titanic had a better chance of survival than adults. Did they?\n",
    "\n",
    "To answer this we can do a hypothesis test comparing two proportions: the proportion of children who survived, $p_{\\rm child}$, and the proportion of adults who survived, $p_{\\rm adult}$. We can state the null and alternative hypotheses as:\n",
    "- $H_0$: $p_{\\rm child} - p_{\\rm adult} = 0$ There is no significant difference in the proportion of children who survive and the proportion of adults who survive.\n",
    "- $H_A$: $p_{\\rm child} - p_{\\rm adult} > 0$ There is a better chance of survival for children than adults.\n",
    "\n",
    "$p_{\\rm child}$ is our unknown population proportion of children who survived  \n",
    "$p_{\\rm adult}$ is our unknown population proportion of adults who survived"
   ]
  },
  {
   "cell_type": "markdown",
   "metadata": {
    "slideshow": {
     "slide_type": "fragment"
    }
   },
   "source": [
    "Our *parameter of interest* is the difference between the proportions of **all** Titanic child passengers and **all** Titanic adult passengers who survived: $p_{\\rm child} - p_{\\rm adult}$.\n",
    "\n",
    "Our *point estimate* is the difference between the proportions of **sampled** Titanic child passengers and **sampled** Titanic adult passengers who survived: $\\hat{p}_{\\rm child} - \\hat{p}_{\\rm adult}$."
   ]
  },
  {
   "cell_type": "markdown",
   "metadata": {
    "slideshow": {
     "slide_type": "slide"
    }
   },
   "source": [
    "## 2. Check assumptions and conditions\n",
    "\"The second step is to consider the statistical assumptions being made about the sample in doing the test; for example, assumptions about the statistical independence or about the form of the distributions of the observations. This is equally important as invalid assumptions will mean that the results of the test are invalid.\" - *Wikipedia*\n",
    "\n",
    "In hypothesis testing the \"control\" and \"experimental\" groups are typically defined through careful experimental design. This is not usually the case in data science applications, though. An exception is collecting click-through data in an A/B test that measures the effect of new ad placement on your website compared to the control group, or existing placement. - *PPA*"
   ]
  },
  {
   "cell_type": "markdown",
   "metadata": {
    "slideshow": {
     "slide_type": "subslide"
    }
   },
   "source": [
    "\"Decide which test is appropriate, and state the relevant test statistic.\" - *Wikipedia*\n",
    "\n",
    "Since we are testing for equality of proportions between 2 samples it would be appropriate to use the **$X^2$ (Chi-squared) test** as our *test statistic*. See here: http://www.stat.wmich.edu/s216/book/node115.html"
   ]
  },
  {
   "cell_type": "markdown",
   "metadata": {
    "slideshow": {
     "slide_type": "subslide"
    }
   },
   "source": [
    "#### Here are the conditions for inference for comparing two independent proportions:\n",
    "1. *Independence:*\n",
    "    - **within groups**: sampled observations must be independent within each group\n",
    "        - random sample/assignment\n",
    "        - if sampling without replacement, $n < 10$% of population\n",
    "    - **between groups**: the two groups must be independent of each other (non-paired)\n",
    "    \n",
    "2. *Sample size/skew:* Each sample should meet the success-failure condition:\n",
    "    $$n_{\\rm child} p_{\\rm child} \\ge 10 \\quad \\textrm{and} \\quad n_{\\rm child} (1 - p_{\\rm child}) \\ge 10$$\n",
    "    $$n_{\\rm adult} p_{\\rm adult} \\ge 10 \\quad \\textrm{and} \\quad n_{\\rm adult} (1 - p_{\\rm adult}) \\ge 10$$\n",
    "    \n",
    "Note that for calculating the *confidence interval* we need to use the \"p-hat\" values corresponding to the observed sample proportions."
   ]
  },
  {
   "cell_type": "markdown",
   "metadata": {
    "slideshow": {
     "slide_type": "subslide"
    }
   },
   "source": [
    "#### Now let's check these conditions for our sample:\n",
    "\n",
    "1. Check *independence*: \n",
    "    - check **within groups**:\n",
    "        - the sample should be random for both adults and children since we either take the data from `train.csv` and work with that, or randomly sample the data ourselves.\n",
    "        - to meet the 10% condition we need to estimate how many children and how many adults are in the *population* of Titanic passengers.\n",
    "      \n",
    "        $\\rightarrow$ Let's take a break to look at the Titanic data so we can check the 10% condition, then continue with the other cchecks."
   ]
  },
  {
   "cell_type": "markdown",
   "metadata": {
    "slideshow": {
     "slide_type": "subslide"
    }
   },
   "source": [
    "#### Load the Titanic training data set:"
   ]
  },
  {
   "cell_type": "code",
   "execution_count": 35,
   "metadata": {
    "collapsed": false,
    "slideshow": {
     "slide_type": "fragment"
    }
   },
   "outputs": [
    {
     "name": "stdout",
     "output_type": "stream",
     "text": [
      "'data.frame':\t891 obs. of  12 variables:\n",
      " $ PassengerId: int  1 2 3 4 5 6 7 8 9 10 ...\n",
      " $ Survived   : int  0 1 1 1 0 0 0 0 1 1 ...\n",
      " $ Pclass     : int  3 1 3 1 3 3 1 3 3 2 ...\n",
      " $ Name       : Factor w/ 891 levels \"Abbing, Mr. Anthony\",..: 109 191 358 277 16 559 520 629 417 581 ...\n",
      " $ Sex        : Factor w/ 2 levels \"female\",\"male\": 2 1 1 1 2 2 2 2 1 1 ...\n",
      " $ Age        : num  22 38 26 35 35 NA 54 2 27 14 ...\n",
      " $ SibSp      : int  1 1 0 1 0 0 0 3 0 1 ...\n",
      " $ Parch      : int  0 0 0 0 0 0 0 1 2 0 ...\n",
      " $ Ticket     : Factor w/ 681 levels \"110152\",\"110413\",..: 524 597 670 50 473 276 86 396 345 133 ...\n",
      " $ Fare       : num  7.25 71.28 7.92 53.1 8.05 ...\n",
      " $ Cabin      : Factor w/ 148 levels \"\",\"A10\",\"A14\",..: 1 83 1 57 1 1 131 1 1 1 ...\n",
      " $ Embarked   : Factor w/ 4 levels \"\",\"C\",\"Q\",\"S\": 4 2 4 4 4 3 4 4 4 2 ...\n"
     ]
    }
   ],
   "source": [
    "train <- read.csv(\"data/train.csv\")  # read in Titanic training data csv file to R data frame\n",
    "str(train)                           # display data frame using R `str` function"
   ]
  },
  {
   "cell_type": "markdown",
   "metadata": {
    "slideshow": {
     "slide_type": "fragment"
    }
   },
   "source": [
    "The training data set is a random sample of 891 passengers from the total 1309 passengers in our data set. This is just over 67% of all 1317 passengers aboard the Titanic when it sank. \n",
    "\n",
    "We can already see that we probably won't meet the 10% condition since we have loaded data on over half the passengers. "
   ]
  },
  {
   "cell_type": "markdown",
   "metadata": {
    "slideshow": {
     "slide_type": "subslide"
    }
   },
   "source": [
    "**Let's find how many children, $N_{\\rm child}$, and how many adults, $N_{\\rm adult}$, are in the entire data set (both `train.csv` and `test.csv` files) or *population*:**"
   ]
  },
  {
   "cell_type": "code",
   "execution_count": 38,
   "metadata": {
    "collapsed": false,
    "slideshow": {
     "slide_type": "fragment"
    }
   },
   "outputs": [
    {
     "name": "stdout",
     "output_type": "stream",
     "text": [
      "Classes ‘tbl_df’, ‘tbl’ and 'data.frame':\t1309 obs. of  3 variables:\n",
      " $ Age   : num  22 38 26 35 35 NA 54 2 27 14 ...\n",
      " $ Sex   : Factor w/ 2 levels \"female\",\"male\": 2 1 1 1 2 2 2 2 1 1 ...\n",
      " $ Pclass: int  3 1 3 1 3 3 1 3 3 2 ...\n"
     ]
    }
   ],
   "source": [
    "# THE ENTIRE POPULATION\n",
    "test  <- read.csv('data/test.csv')   # read in Titanic test data csv file\n",
    "\n",
    "training <- data.frame(train$Age, train$Sex, train$Pclass)  # disclude Survived and assign to new data frame so we don't lose \"train\"\n",
    "names(training) <- c(\"Age\", \"Sex\",\"Pclass\") # rename column variables\n",
    "testing <- data.frame(test$Age, test$Sex, test$Pclass)\n",
    "names(testing)  <- c(\"Age\", \"Sex\",\"Pclass\")\n",
    "\n",
    "full  <- bind_rows(training, testing)      # bind training & test data\n",
    "str(full)  # note that there are 1309 observations, which is over 99% of the entire population of 1317"
   ]
  },
  {
   "cell_type": "markdown",
   "metadata": {
    "slideshow": {
     "slide_type": "subslide"
    }
   },
   "source": [
    "#### First, check for missing values of `Age`:\n",
    "We actually only have ages for 1046 passengers, which is about 79% of the total population of 1317 passengers."
   ]
  },
  {
   "cell_type": "code",
   "execution_count": 39,
   "metadata": {
    "collapsed": false,
    "slideshow": {
     "slide_type": "fragment"
    }
   },
   "outputs": [
    {
     "name": "stdout",
     "output_type": "stream",
     "text": [
      "Classes ‘tbl_df’ and 'data.frame':\t1046 obs. of  3 variables:\n",
      " $ Age   : num  22 38 26 35 35 54 2 27 14 4 ...\n",
      " $ Sex   : Factor w/ 2 levels \"female\",\"male\": 2 1 1 1 2 2 2 1 1 1 ...\n",
      " $ Pclass: int  3 1 3 1 3 1 3 3 2 3 ...\n"
     ]
    }
   ],
   "source": [
    "full <- full[!is.na(full$Age),] # drop all rows with missing ages\n",
    "str(full)"
   ]
  },
  {
   "cell_type": "markdown",
   "metadata": {
    "slideshow": {
     "slide_type": "fragment"
    }
   },
   "source": [
    "We'll proceed to estimate $N_{\\rm child}$ and $N_{\\rm adult}$ based on these 1046 passengers, then scale them up by a factor of 1317/1046, or $\\approx 1.259$"
   ]
  },
  {
   "cell_type": "markdown",
   "metadata": {
    "slideshow": {
     "slide_type": "subslide"
    }
   },
   "source": [
    "#### But first let's take a look at the distribution of passenger ages:"
   ]
  },
  {
   "cell_type": "code",
   "execution_count": 40,
   "metadata": {
    "collapsed": false,
    "slideshow": {
     "slide_type": "fragment"
    }
   },
   "outputs": [
    {
     "data": {
      "image/png": "[encoded data removed]",
      "text/plain": [
       "plot without title"
      ]
     },
     "metadata": {
      "image/svg+xml": {
       "isolated": true
      }
     },
     "output_type": "display_data"
    }
   ],
   "source": [
    "# Overlay a probability distribution function (PDF) on a histogram of Age\n",
    "ggplot(full, aes(x=Age)) + \n",
    "    ggtitle(\"Passenger Age\") + \n",
    "    xlab(\"Age\") + \n",
    "    ylab(\"Density\") + \n",
    "    geom_histogram(aes(y=..density..), binwidth=1)+\n",
    "    geom_density(alpha=.5, fill=\"#FFFFFF\")"
   ]
  },
  {
   "cell_type": "code",
   "execution_count": 49,
   "metadata": {
    "collapsed": false,
    "slideshow": {
     "slide_type": "subslide"
    }
   },
   "outputs": [
    {
     "data": {
      "text/html": [
       "2.04"
      ],
      "text/latex": [
       "2.04"
      ],
      "text/markdown": [
       "2.04"
      ],
      "text/plain": [
       "[1] 2.04"
      ]
     },
     "metadata": {},
     "output_type": "display_data"
    },
    {
     "data": {
      "text/html": [
       "80"
      ],
      "text/latex": [
       "80"
      ],
      "text/markdown": [
       "80"
      ],
      "text/plain": [
       "[1] 80"
      ]
     },
     "metadata": {},
     "output_type": "display_data"
    }
   ],
   "source": [
    "min(full$Age) * 12 # convert from years to months\n",
    "max(full$Age)"
   ]
  },
  {
   "cell_type": "markdown",
   "metadata": {
    "slideshow": {
     "slide_type": "fragment"
    }
   },
   "source": [
    "The youngest passenger in this sample was 2 months old and the oldest was 80 years old, which seems quite a bit older than the average life expectancy of early to mid 50s for the year 1912 when the Titanic sank: http://demog.berkeley.edu/~andrew/1918/figure2.html"
   ]
  },
  {
   "cell_type": "markdown",
   "metadata": {
    "slideshow": {
     "slide_type": "subslide"
    }
   },
   "source": [
    "Though the distribution of numerical ages is obviously not normally distributed, we can take a look at the discrepancies at extreme ages with a normal quantile plot. The data is noticeably right-skewed, although there is clear dip in the number of pre-teen and teenage passengers. "
   ]
  },
  {
   "cell_type": "code",
   "execution_count": 42,
   "metadata": {
    "collapsed": false,
    "slideshow": {
     "slide_type": "fragment"
    }
   },
   "outputs": [
    {
     "data": {
      "image/png": "[encoded data removed]",
      "text/plain": [
       "Plot with title “Passenger Age: Normal Quantile Plot”"
      ]
     },
     "metadata": {
      "image/svg+xml": {
       "isolated": true
      }
     },
     "output_type": "display_data"
    }
   ],
   "source": [
    "qqnorm(full$Age, main=\"Passenger Age: Normal Quantile Plot\")\n",
    "qqline(full$Age)"
   ]
  },
  {
   "cell_type": "markdown",
   "metadata": {
    "slideshow": {
     "slide_type": "subslide"
    }
   },
   "source": [
    "#### Now let's discretize the numerical `Age` column values into two groups:"
   ]
  },
  {
   "cell_type": "code",
   "execution_count": 50,
   "metadata": {
    "collapsed": false,
    "slideshow": {
     "slide_type": "fragment"
    }
   },
   "outputs": [],
   "source": [
    "# Add a new categorical variable called \"AgeGroup\" with values \"Child\" or \"Adult\".\n",
    "full$AgeGroup <- \"Adult\"\n",
    "full$AgeGroup[full$Age < 18] <- \"Child\""
   ]
  },
  {
   "cell_type": "code",
   "execution_count": 63,
   "metadata": {
    "collapsed": false,
    "slideshow": {
     "slide_type": "fragment"
    }
   },
   "outputs": [
    {
     "data": {
      "text/plain": [
       "\n",
       "Adult Child \n",
       "  892   154 "
      ]
     },
     "metadata": {},
     "output_type": "display_data"
    },
    {
     "data": {
      "text/plain": [
       "\n",
       "   Adult    Child \n",
       "1123.028  193.886 "
      ]
     },
     "metadata": {},
     "output_type": "display_data"
    }
   ],
   "source": [
    "table(full$AgeGroup)\n",
    "table(full$AgeGroup) * 1.259 # scale up values so total is 1317"
   ]
  },
  {
   "cell_type": "markdown",
   "metadata": {
    "slideshow": {
     "slide_type": "fragment"
    }
   },
   "source": [
    "So we'll estimate $N_{\\rm child} \\approx 194$ and $N_{\\rm adult} \\approx 1123$. This means that our sample sizes should be $n_{\\rm child} < 19$ and $n_{\\rm adult} < 112$ to the 10% criterion for independence."
   ]
  },
  {
   "cell_type": "markdown",
   "metadata": {
    "slideshow": {
     "slide_type": "subslide"
    }
   },
   "source": [
    "#### Subset, drop rows with missing `Age` values, then take a random *sample* from the `train` data frame of $\\lesssim 10$%:"
   ]
  },
  {
   "cell_type": "code",
   "execution_count": 107,
   "metadata": {
    "collapsed": false,
    "slideshow": {
     "slide_type": "fragment"
    }
   },
   "outputs": [
    {
     "data": {
      "text/plain": [
       "   Min. 1st Qu.  Median    Mean 3rd Qu.    Max. \n",
       "   0.42   20.12   28.00   29.70   38.00   80.00 "
      ]
     },
     "metadata": {},
     "output_type": "display_data"
    },
    {
     "name": "stdout",
     "output_type": "stream",
     "text": [
      "'data.frame':\t115 obs. of  4 variables:\n",
      " $ Survived: int  0 0 1 0 1 1 1 0 1 0 ...\n",
      " $ Age     : num  57 31 24 33 54 25 34 28 30 38 ...\n",
      " $ Sex     : Factor w/ 2 levels \"female\",\"male\": 2 1 1 2 1 1 1 2 1 2 ...\n",
      " $ Pclass  : int  2 3 2 3 1 2 2 2 2 1 ...\n"
     ]
    }
   ],
   "source": [
    "train <- data.frame(train$Survived, train$Age, train$Sex, train$Pclass); # select 4 columns of data frame\n",
    "names(train) <- c(\"Survived\", \"Age\", \"Sex\",\"Pclass\"); # rename columns from, e.g., train$Survived to Survived\n",
    "\n",
    "# Let's keep the data frame \"train\" intact for later use, and create a new one called \"train_age\"\n",
    "train_age <- train[!is.na(train$Age),] # strip \"train\" data of rows with Age=NULL\n",
    "summary(train_age$Age)                 # show some descriptive statistics of Age variable\n",
    "\n",
    "mysample <- train_age[sample(1:nrow(train_age), 115, replace=FALSE),]\n",
    "str(mysample)"
   ]
  },
  {
   "cell_type": "markdown",
   "metadata": {
    "slideshow": {
     "slide_type": "subslide"
    }
   },
   "source": [
    "#### Discretize the ages in `mysample` into two groups - adults and children - and check the condition:"
   ]
  },
  {
   "cell_type": "code",
   "execution_count": 108,
   "metadata": {
    "collapsed": false,
    "slideshow": {
     "slide_type": "fragment"
    }
   },
   "outputs": [
    {
     "data": {
      "text/html": [
       "17"
      ],
      "text/latex": [
       "17"
      ],
      "text/markdown": [
       "17"
      ],
      "text/plain": [
       "[1] 17"
      ]
     },
     "metadata": {},
     "output_type": "display_data"
    },
    {
     "data": {
      "text/html": [
       "98"
      ],
      "text/latex": [
       "98"
      ],
      "text/markdown": [
       "98"
      ],
      "text/plain": [
       "[1] 98"
      ]
     },
     "metadata": {},
     "output_type": "display_data"
    }
   ],
   "source": [
    "length(which(mysample$Age < 18))\n",
    "length(which(mysample$Age >= 18))"
   ]
  },
  {
   "cell_type": "markdown",
   "metadata": {
    "slideshow": {
     "slide_type": "fragment"
    }
   },
   "source": [
    "A sample size of $n = 115$ worked."
   ]
  },
  {
   "cell_type": "code",
   "execution_count": 110,
   "metadata": {
    "collapsed": false,
    "slideshow": {
     "slide_type": "subslide"
    }
   },
   "outputs": [],
   "source": [
    "# Add a new categorical variable called \"AgeGroup\" with values \"Child\" or \"Adult\".\n",
    "mysample$AgeGroup <- \"Adult\"\n",
    "mysample$AgeGroup[mysample$Age < 18] <- \"Child\""
   ]
  },
  {
   "cell_type": "code",
   "execution_count": 111,
   "metadata": {
    "collapsed": false,
    "slideshow": {
     "slide_type": "fragment"
    }
   },
   "outputs": [
    {
     "data": {
      "text/plain": [
       "\n",
       " No Yes \n",
       " 72  43 "
      ]
     },
     "metadata": {},
     "output_type": "display_data"
    }
   ],
   "source": [
    "# Add a new categorical variable called \"Lived\" with \"Yes\" or \"No\" instead of \"1\" or \"0\" for Survival.\n",
    "mysample$Lived[ mysample$Survived == 1 ] <- \"Yes\"\n",
    "mysample$Lived[ mysample$Survived == 0 ] <- \"No\"\n",
    "\n",
    "# Return a contingency table of the new Lived column.\n",
    "lived <- table( mysample$Lived )\n",
    "lived"
   ]
  },
  {
   "cell_type": "code",
   "execution_count": 112,
   "metadata": {
    "collapsed": false,
    "slideshow": {
     "slide_type": "fragment"
    }
   },
   "outputs": [
    {
     "data": {
      "text/plain": [
       "\n",
       "   No   Yes \n",
       "62.61 37.39 "
      ]
     },
     "metadata": {},
     "output_type": "display_data"
    }
   ],
   "source": [
    "# Create a contingency table with proportions.\n",
    "percent_lived <- round( 100*prop.table( lived ), 2 )\n",
    "percent_lived"
   ]
  },
  {
   "cell_type": "code",
   "execution_count": 113,
   "metadata": {
    "collapsed": false,
    "slideshow": {
     "slide_type": "subslide"
    }
   },
   "outputs": [
    {
     "data": {
      "image/png": "[encoded data removed]",
      "text/plain": [
       "Plot with title “Proportion of Titanic Passengers Who Lived”"
      ]
     },
     "metadata": {
      "image/svg+xml": {
       "isolated": true
      }
     },
     "output_type": "display_data"
    }
   ],
   "source": [
    "# Let's plot that for fun\n",
    "barplot(sort(percent_lived, decreasing=FALSE),\n",
    "        main=\"Proportion of Titanic Passengers Who Lived\",\n",
    "        xlab=\"Lived?\", \n",
    "        ylab=\"Percent of Passengers\",\n",
    "        col=\"darkblue\",\n",
    "        ylim=c(0,100)\n",
    "        )"
   ]
  },
  {
   "cell_type": "markdown",
   "metadata": {
    "slideshow": {
     "slide_type": "subslide"
    }
   },
   "source": [
    "#### Make frequency and proportion tables of child/adult survival:"
   ]
  },
  {
   "cell_type": "code",
   "execution_count": 114,
   "metadata": {
    "collapsed": false,
    "slideshow": {
     "slide_type": "fragment"
    }
   },
   "outputs": [
    {
     "data": {
      "text/plain": [
       "       \n",
       "        No Yes\n",
       "  Adult 63  35\n",
       "  Child  9   8"
      ]
     },
     "metadata": {},
     "output_type": "display_data"
    }
   ],
   "source": [
    "# `table` creates a contingency table\n",
    "age_group_lived <- table(mysample$AgeGroup, mysample$Lived)\n",
    "age_group_lived"
   ]
  },
  {
   "cell_type": "code",
   "execution_count": 91,
   "metadata": {
    "collapsed": false,
    "slideshow": {
     "slide_type": "fragment"
    }
   },
   "outputs": [
    {
     "data": {
      "text/plain": [
       "       \n",
       "          No  Yes\n",
       "  Adult 0.64 0.36\n",
       "  Child 0.60 0.40"
      ]
     },
     "metadata": {},
     "output_type": "display_data"
    }
   ],
   "source": [
    "# `prop.table` gives the row percentages\n",
    "age_group_lived_prop <- prop.table(age_group_lived, margin=1) # 1 = rows, 2 = columns\n",
    "age_group_lived_prop"
   ]
  },
  {
   "cell_type": "markdown",
   "metadata": {
    "slideshow": {
     "slide_type": "subslide"
    }
   },
   "source": [
    "\"2.\" *Sample size/skew:* Each sample should meet the success-failure condition:\n",
    "    $$n_{\\rm child} p_{\\rm child} \\ge 10 \\quad \\textrm{and} \\quad n_{\\rm child} (1 - p_{\\rm child}) \\ge 10$$\n",
    "    $$n_{\\rm adult} p_{\\rm adult} \\ge 10 \\quad \\textrm{and} \\quad n_{\\rm adult} (1 - p_{\\rm adult}) \\ge 10$$"
   ]
  },
  {
   "cell_type": "code",
   "execution_count": 123,
   "metadata": {
    "collapsed": false,
    "slideshow": {
     "slide_type": "fragment"
    }
   },
   "outputs": [
    {
     "data": {
      "text/html": [
       "17.2"
      ],
      "text/latex": [
       "17.2"
      ],
      "text/markdown": [
       "17.2"
      ],
      "text/plain": [
       "[1] 17.2"
      ]
     },
     "metadata": {},
     "output_type": "display_data"
    },
    {
     "data": {
      "text/html": [
       "25.8"
      ],
      "text/latex": [
       "25.8"
      ],
      "text/markdown": [
       "25.8"
      ],
      "text/plain": [
       "[1] 25.8"
      ]
     },
     "metadata": {},
     "output_type": "display_data"
    },
    {
     "data": {
      "text/html": [
       "43.2"
      ],
      "text/latex": [
       "43.2"
      ],
      "text/markdown": [
       "43.2"
      ],
      "text/plain": [
       "[1] 43.2"
      ]
     },
     "metadata": {},
     "output_type": "display_data"
    },
    {
     "data": {
      "text/html": [
       "28.8"
      ],
      "text/latex": [
       "28.8"
      ],
      "text/markdown": [
       "28.8"
      ],
      "text/plain": [
       "[1] 28.8"
      ]
     },
     "metadata": {},
     "output_type": "display_data"
    }
   ],
   "source": [
    "(age_group_lived[3] + age_group_lived[4]) * age_group_lived_prop[4]\n",
    "(age_group_lived[3] + age_group_lived[4]) * (1 - age_group_lived_prop[4])\n",
    "\n",
    "(age_group_lived[1] + age_group_lived[2]) * age_group_lived_prop[2]\n",
    "(age_group_lived[1] + age_group_lived[2]) * (1 - age_group_lived_prop[2])"
   ]
  },
  {
   "cell_type": "markdown",
   "metadata": {
    "slideshow": {
     "slide_type": "slide"
    }
   },
   "source": [
    "## 3. Calculate a *test statistic* and a $p$-value (draw a picture!)\n",
    "\n",
    "\"Compute from the observations the observed value of the test statistic.\" - *Wikipedia*\n",
    "\n",
    "\"Calculate the $p$-value. This is the probability, under the null hypothesis, of sampling a test statistic at least as extreme as that which was observed.\" - *Wikipedia*"
   ]
  },
  {
   "cell_type": "code",
   "execution_count": 132,
   "metadata": {
    "collapsed": false,
    "slideshow": {
     "slide_type": "subslide"
    }
   },
   "outputs": [
    {
     "data": {
      "text/plain": [
       "\n",
       "\tPearson's Chi-squared test with Yates' continuity correction\n",
       "\n",
       "data:  mysample$Survived and mysample$AgeGroup\n",
       "X-squared = 0.38554, df = 1, p-value = 0.5347\n"
      ]
     },
     "metadata": {},
     "output_type": "display_data"
    }
   ],
   "source": [
    "# chi-squared test between Survived, Age\n",
    "chisq.test(mysample$Survived, mysample$AgeGroup)"
   ]
  },
  {
   "cell_type": "code",
   "execution_count": 134,
   "metadata": {
    "collapsed": false,
    "slideshow": {
     "slide_type": "skip"
    }
   },
   "outputs": [
    {
     "name": "stderr",
     "output_type": "stream",
     "text": [
      "Warning message:\n",
      "In chisq.test(train$Survived, train$AgeGroup): Chi-squared approximation may be incorrect"
     ]
    },
    {
     "data": {
      "text/plain": [
       "\n",
       "\tChi-squared test for given probabilities\n",
       "\n",
       "data:  train$Survived\n",
       "X-squared = 549, df = 890, p-value = 1\n"
      ]
     },
     "metadata": {},
     "output_type": "display_data"
    }
   ],
   "source": [
    "# chi-squared test between Survived, Age for whole `train` dataframe\n",
    "chisq.test(train$Survived, train$AgeGroup)"
   ]
  },
  {
   "cell_type": "code",
   "execution_count": 136,
   "metadata": {
    "collapsed": false,
    "slideshow": {
     "slide_type": "skip"
    }
   },
   "outputs": [
    {
     "data": {
      "text/plain": [
       "Number of cases in table: 115 \n",
       "Number of factors: 2 \n",
       "Test for independence of all factors:\n",
       "\tChisq = 0.7964, df = 1, p-value = 0.3722"
      ]
     },
     "metadata": {},
     "output_type": "display_data"
    }
   ],
   "source": [
    "# another method of chi-squared test\n",
    "summary(table(mysample$Survived, mysample$AgeGroup))"
   ]
  },
  {
   "cell_type": "markdown",
   "metadata": {
    "slideshow": {
     "slide_type": "slide"
    }
   },
   "source": [
    "## 4. Make a decision, and interpret it in the context of the research question\n",
    "\"Reject the null hypothesis, in favor of the alternative hypothesis, if and only if the `p`-value is less than the significance level (the selected probability) threshold.\" - *Wikipedia*\n",
    "\n",
    "- If $p$-value $< \\alpha$, reject $H_0$, data provide evidence for $H_A$\n",
    "- If $p$-value $> \\alpha$, do not reject $H_0$, data do not provide evidence for $H_A$"
   ]
  },
  {
   "cell_type": "markdown",
   "metadata": {
    "slideshow": {
     "slide_type": "fragment"
    }
   },
   "source": [
    "A near-zero p-value indicates that the evidence supports the alternative hypothesis that children are more likely to have survived. However, we have a p-value of 0.53.\n",
    "\n",
    "So, we **do not reject the null hypothesis**.\n",
    "\n",
    "There's a 53% chance you'd observe such an extreme statistic if our null hypothesis were true."
   ]
  },
  {
   "cell_type": "markdown",
   "metadata": {
    "slideshow": {
     "slide_type": "fragment"
    }
   },
   "source": [
    "|                    | Do Not Reject $H_0$                   | Reject $H_0$                         |\n",
    "|--------------------|:-------------------------------------:|:------------------------------------:|\n",
    "| **$H_0$ is True**  | *Correct Decision*<br>($1 - \\alpha$)  | *Type 1 Error*<br>($\\alpha$)         |\n",
    "| **$H_0$ is False** | *Type 2 Error*<br> ($\\beta)$          | *Correct Decision*<br> ($1 - \\beta)$ |"
   ]
  },
  {
   "cell_type": "markdown",
   "metadata": {
    "slideshow": {
     "slide_type": "subslide"
    }
   },
   "source": [
    "### *Example:* Consider `Sex` variable"
   ]
  },
  {
   "cell_type": "code",
   "execution_count": 141,
   "metadata": {
    "collapsed": false,
    "slideshow": {
     "slide_type": "fragment"
    }
   },
   "outputs": [
    {
     "data": {
      "text/plain": [
       "\n",
       "\tPearson's Chi-squared test with Yates' continuity correction\n",
       "\n",
       "data:  mysample$Survived and mysample$Sex\n",
       "X-squared = 35.606, df = 1, p-value = 2.415e-09\n"
      ]
     },
     "metadata": {},
     "output_type": "display_data"
    }
   ],
   "source": [
    "chisq.test(mysample$Survived, mysample$Sex)"
   ]
  },
  {
   "cell_type": "markdown",
   "metadata": {
    "slideshow": {
     "slide_type": "fragment"
    }
   },
   "source": [
    "A near-zero p-value indicates that the evidence supports the alternative hypothesis that children are more likely to have survived.\n",
    "\n",
    "So, we **reject the null hypothesis**.\n",
    "\n",
    "There's a (basically) 0% chance you'd observe such an extreme statistic if our null hypothesis were true."
   ]
  },
  {
   "cell_type": "markdown",
   "metadata": {
    "slideshow": {
     "slide_type": "slide"
    }
   },
   "source": [
    "## EXERCISE TIME!\n",
    "Now try working through hypothesis testing on `Pclass` or `Sex`!"
   ]
  },
  {
   "cell_type": "markdown",
   "metadata": {
    "slideshow": {
     "slide_type": "fragment"
    }
   },
   "source": [
    "### *Exercise:*  Sampling distribution of point estimates for the example problem\n",
    "Take a bunch of random samples of size $n = 110$, calculate the point estimates, $\\hat{p}_{\\rm child} - \\hat{p}_{\\rm adult}$, then plot the sampling distribution. You can copy the code from the hist/pdf and qqplot we plotted for Age. Check for normality."
   ]
  },
  {
   "cell_type": "markdown",
   "metadata": {
    "slideshow": {
     "slide_type": "fragment"
    }
   },
   "source": [
    "### *Exercise:* Try using a permutation test for the example problem\n",
    "- https://rpubs.com/jeffrey6557/52266\n",
    "- https://en.wikipedia.org/wiki/Resampling_(statistics)\n",
    "- http://thomasleeper.com/Rcourse/Tutorials/permutationtests.html\n"
   ]
  },
  {
   "cell_type": "markdown",
   "metadata": {
    "slideshow": {
     "slide_type": "subslide"
    }
   },
   "source": [
    "### *Exercise:* Consider `Pclass` (passenger class) variable\n",
    "Next we could look at whether upper class passengers aboard the Titanic had a better chance of survival than lower class passengers. We would compare the proportion of upper class passengers who survived, $p_{\\rm upper}$, with the proportion of lower class passengers, $p_{\\rm lower}$.\n",
    "- $H_0$: $p_{\\rm upper} - p_{\\rm lower} = 0$ There is no significant difference in the chances of survival of upper and lower class passengers.\n",
    "- $H_A$: $p_{\\rm upper} - p_{\\rm lower} > 0$ There is a better chance of survival for upper class passengers. \n",
    "\n",
    "If you need ideas, check this blog post:\n",
    "https://www.analyticsvidhya.com/blog/2015/10/inferential-descriptive-statistics-beginners-r/"
   ]
  },
  {
   "cell_type": "markdown",
   "metadata": {
    "slideshow": {
     "slide_type": "slide"
    }
   },
   "source": [
    "## Final Comments"
   ]
  },
  {
   "cell_type": "markdown",
   "metadata": {
    "slideshow": {
     "slide_type": "subslide"
    }
   },
   "source": [
    "\n",
    "\"To do good *science*:\"\n",
    ">- Determine your hypotheses before looking at the data.\n",
    ">- Clean your data without the hypotheses in mind.\n",
    ">- Keep in mind that $p$-values are not substitutes for common sense.\n",
    "\n",
    "- *DS From Scratch*"
   ]
  },
  {
   "cell_type": "markdown",
   "metadata": {
    "slideshow": {
     "slide_type": "subslide"
    }
   },
   "source": [
    "## More Resources\n",
    "- http://gchang.people.ysu.edu/class/s5817/L/ReviewNote_5817.pdf\n",
    "- https://www.encyclopedia-titanica.org/\n",
    "- https://en.wikipedia.org/wiki/Resampling_(statistics)\n",
    "- https://lagunita.stanford.edu/courses/HumanitiesScience/StatLearning - Chapter 5: Resampling Methods\n",
    "- http://www.nature.com/news/scientific-method-statistical-errors-1.14700\n",
    "- https://ds8.gitbooks.io/textbook/content/chapter5/intro.html\n",
    "- [Statistics for Hackers](https://www.youtube.com/watch?v=Iq9DzN6mvYA) - PyCon 2016 talk by Jake Vanderplas\n",
    "- https://www.analyticsvidhya.com/blog/2015/10/inferential-descriptive-statistics-beginners-r/"
   ]
  },
  {
   "cell_type": "markdown",
   "metadata": {
    "slideshow": {
     "slide_type": "fragment"
    }
   },
   "source": [
    "The notebook `2016-08-18-TitanicHypothesisTesting-python.ipynb` in this repository is the start of a translation from `R` to `Python` of the current notebook. If you'd like to help complete the translation, please fork the repository, make your changes, and issue a pull request!\n",
    "\n",
    "Thanks for coming!!"
   ]
  }
 ],
 "metadata": {
  "celltoolbar": "Slideshow",
  "kernelspec": {
   "display_name": "R",
   "language": "R",
   "name": "ir"
  },
  "language_info": {
   "codemirror_mode": "r",
   "file_extension": ".r",
   "mimetype": "text/x-r-source",
   "name": "R",
   "pygments_lexer": "r",
   "version": "3.3.1"
  }
 },
 "nbformat": 4,
 "nbformat_minor": 0
}
